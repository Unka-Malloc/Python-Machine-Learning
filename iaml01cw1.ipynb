{
 "cells": [
  {
   "cell_type": "code",
   "execution_count": 3,
   "metadata": {},
   "outputs": [
    {
     "name": "stderr",
     "output_type": "stream",
     "text": [
      "D:\\Python\\Anaconda3\\envs\\py3iaml\\lib\\site-packages\\sklearn\\utils\\__init__.py:4: DeprecationWarning: Using or importing the ABCs from 'collections' instead of from 'collections.abc' is deprecated since Python 3.3,and in 3.9 it will stop working\n",
      "  from collections import Sequence\n"
     ]
    },
    {
     "name": "stdout",
     "output_type": "stream",
     "text": [
      "matplotlib: 2.2.3\n",
      "numpy: 1.15.0\n",
      "pandas: 0.23.4\n",
      "scikit-learn: 0.19.1\n",
      "scipy: 1.1.0\n",
      "seaborn: 0.9.0\n",
      "python-graphviz: 0.8.4\n"
     ]
    }
   ],
   "source": [
    "import matplotlib\n",
    "from matplotlib import pyplot as plt\n",
    "import numpy as np\n",
    "import pandas as pd\n",
    "import sklearn \n",
    "import scipy\n",
    "import seaborn as sns\n",
    "import graphviz\n",
    "\n",
    "print(\"matplotlib: \" + matplotlib.__version__)\n",
    "print(\"numpy: \" + np.__version__)\n",
    "print(\"pandas: \" + pd.__version__)\n",
    "print(\"scikit-learn: \" + sklearn.__version__)\n",
    "print(\"scipy: \" + scipy.__version__)\n",
    "print(\"seaborn: \" + sns.__version__)\n",
    "print(\"python-graphviz: \" + graphviz.__version__)"
   ]
  },
  {
   "cell_type": "code",
   "execution_count": 4,
   "metadata": {},
   "outputs": [],
   "source": [
    "# Read file regression_part1.csv\n",
    "import os\n",
    "\n",
    "path_regression_part1 = os.path.join(os.getcwd(), 'data', 'regression_part1.csv')\n",
    "data_regression_part1 = pd.read_csv(path_regression_part1, delimiter = ',')"
   ]
  },
  {
   "cell_type": "code",
   "execution_count": 5,
   "metadata": {},
   "outputs": [
    {
     "data": {
      "text/html": [
       "<div>\n",
       "<style scoped>\n",
       "    .dataframe tbody tr th:only-of-type {\n",
       "        vertical-align: middle;\n",
       "    }\n",
       "\n",
       "    .dataframe tbody tr th {\n",
       "        vertical-align: top;\n",
       "    }\n",
       "\n",
       "    .dataframe thead th {\n",
       "        text-align: right;\n",
       "    }\n",
       "</style>\n",
       "<table border=\"1\" class=\"dataframe\">\n",
       "  <thead>\n",
       "    <tr style=\"text-align: right;\">\n",
       "      <th></th>\n",
       "      <th>revision_time</th>\n",
       "      <th>exam_score</th>\n",
       "    </tr>\n",
       "  </thead>\n",
       "  <tbody>\n",
       "    <tr>\n",
       "      <th>0</th>\n",
       "      <td>2.723</td>\n",
       "      <td>27.682</td>\n",
       "    </tr>\n",
       "    <tr>\n",
       "      <th>1</th>\n",
       "      <td>2.844</td>\n",
       "      <td>22.998</td>\n",
       "    </tr>\n",
       "    <tr>\n",
       "      <th>2</th>\n",
       "      <td>3.303</td>\n",
       "      <td>19.765</td>\n",
       "    </tr>\n",
       "    <tr>\n",
       "      <th>3</th>\n",
       "      <td>3.588</td>\n",
       "      <td>24.481</td>\n",
       "    </tr>\n",
       "    <tr>\n",
       "      <th>4</th>\n",
       "      <td>4.050</td>\n",
       "      <td>22.974</td>\n",
       "    </tr>\n",
       "    <tr>\n",
       "      <th>5</th>\n",
       "      <td>4.080</td>\n",
       "      <td>27.086</td>\n",
       "    </tr>\n",
       "    <tr>\n",
       "      <th>6</th>\n",
       "      <td>5.674</td>\n",
       "      <td>26.136</td>\n",
       "    </tr>\n",
       "    <tr>\n",
       "      <th>7</th>\n",
       "      <td>6.060</td>\n",
       "      <td>27.038</td>\n",
       "    </tr>\n",
       "    <tr>\n",
       "      <th>8</th>\n",
       "      <td>6.347</td>\n",
       "      <td>31.283</td>\n",
       "    </tr>\n",
       "    <tr>\n",
       "      <th>9</th>\n",
       "      <td>6.819</td>\n",
       "      <td>14.731</td>\n",
       "    </tr>\n",
       "    <tr>\n",
       "      <th>10</th>\n",
       "      <td>7.098</td>\n",
       "      <td>28.946</td>\n",
       "    </tr>\n",
       "    <tr>\n",
       "      <th>11</th>\n",
       "      <td>7.515</td>\n",
       "      <td>26.901</td>\n",
       "    </tr>\n",
       "    <tr>\n",
       "      <th>12</th>\n",
       "      <td>8.356</td>\n",
       "      <td>35.299</td>\n",
       "    </tr>\n",
       "    <tr>\n",
       "      <th>13</th>\n",
       "      <td>9.214</td>\n",
       "      <td>24.228</td>\n",
       "    </tr>\n",
       "    <tr>\n",
       "      <th>14</th>\n",
       "      <td>10.364</td>\n",
       "      <td>34.651</td>\n",
       "    </tr>\n",
       "    <tr>\n",
       "      <th>15</th>\n",
       "      <td>10.510</td>\n",
       "      <td>34.667</td>\n",
       "    </tr>\n",
       "    <tr>\n",
       "      <th>16</th>\n",
       "      <td>12.102</td>\n",
       "      <td>34.848</td>\n",
       "    </tr>\n",
       "    <tr>\n",
       "      <th>17</th>\n",
       "      <td>13.187</td>\n",
       "      <td>37.266</td>\n",
       "    </tr>\n",
       "    <tr>\n",
       "      <th>18</th>\n",
       "      <td>16.692</td>\n",
       "      <td>43.491</td>\n",
       "    </tr>\n",
       "    <tr>\n",
       "      <th>19</th>\n",
       "      <td>16.977</td>\n",
       "      <td>45.201</td>\n",
       "    </tr>\n",
       "    <tr>\n",
       "      <th>20</th>\n",
       "      <td>18.330</td>\n",
       "      <td>40.924</td>\n",
       "    </tr>\n",
       "    <tr>\n",
       "      <th>21</th>\n",
       "      <td>19.599</td>\n",
       "      <td>48.321</td>\n",
       "    </tr>\n",
       "    <tr>\n",
       "      <th>22</th>\n",
       "      <td>20.321</td>\n",
       "      <td>49.574</td>\n",
       "    </tr>\n",
       "    <tr>\n",
       "      <th>23</th>\n",
       "      <td>21.280</td>\n",
       "      <td>47.239</td>\n",
       "    </tr>\n",
       "    <tr>\n",
       "      <th>24</th>\n",
       "      <td>21.578</td>\n",
       "      <td>45.582</td>\n",
       "    </tr>\n",
       "    <tr>\n",
       "      <th>25</th>\n",
       "      <td>21.798</td>\n",
       "      <td>53.182</td>\n",
       "    </tr>\n",
       "    <tr>\n",
       "      <th>26</th>\n",
       "      <td>22.048</td>\n",
       "      <td>39.956</td>\n",
       "    </tr>\n",
       "    <tr>\n",
       "      <th>27</th>\n",
       "      <td>24.949</td>\n",
       "      <td>52.697</td>\n",
       "    </tr>\n",
       "    <tr>\n",
       "      <th>28</th>\n",
       "      <td>25.147</td>\n",
       "      <td>54.900</td>\n",
       "    </tr>\n",
       "    <tr>\n",
       "      <th>29</th>\n",
       "      <td>26.495</td>\n",
       "      <td>66.065</td>\n",
       "    </tr>\n",
       "    <tr>\n",
       "      <th>30</th>\n",
       "      <td>26.535</td>\n",
       "      <td>60.068</td>\n",
       "    </tr>\n",
       "    <tr>\n",
       "      <th>31</th>\n",
       "      <td>28.687</td>\n",
       "      <td>65.432</td>\n",
       "    </tr>\n",
       "    <tr>\n",
       "      <th>32</th>\n",
       "      <td>29.055</td>\n",
       "      <td>47.340</td>\n",
       "    </tr>\n",
       "    <tr>\n",
       "      <th>33</th>\n",
       "      <td>31.043</td>\n",
       "      <td>66.051</td>\n",
       "    </tr>\n",
       "    <tr>\n",
       "      <th>34</th>\n",
       "      <td>32.176</td>\n",
       "      <td>62.916</td>\n",
       "    </tr>\n",
       "    <tr>\n",
       "      <th>35</th>\n",
       "      <td>32.203</td>\n",
       "      <td>62.892</td>\n",
       "    </tr>\n",
       "    <tr>\n",
       "      <th>36</th>\n",
       "      <td>32.226</td>\n",
       "      <td>52.066</td>\n",
       "    </tr>\n",
       "    <tr>\n",
       "      <th>37</th>\n",
       "      <td>32.268</td>\n",
       "      <td>75.787</td>\n",
       "    </tr>\n",
       "    <tr>\n",
       "      <th>38</th>\n",
       "      <td>32.711</td>\n",
       "      <td>71.807</td>\n",
       "    </tr>\n",
       "    <tr>\n",
       "      <th>39</th>\n",
       "      <td>32.886</td>\n",
       "      <td>63.339</td>\n",
       "    </tr>\n",
       "    <tr>\n",
       "      <th>40</th>\n",
       "      <td>34.489</td>\n",
       "      <td>59.794</td>\n",
       "    </tr>\n",
       "    <tr>\n",
       "      <th>41</th>\n",
       "      <td>34.889</td>\n",
       "      <td>63.983</td>\n",
       "    </tr>\n",
       "    <tr>\n",
       "      <th>42</th>\n",
       "      <td>37.299</td>\n",
       "      <td>68.714</td>\n",
       "    </tr>\n",
       "    <tr>\n",
       "      <th>43</th>\n",
       "      <td>40.875</td>\n",
       "      <td>70.767</td>\n",
       "    </tr>\n",
       "    <tr>\n",
       "      <th>44</th>\n",
       "      <td>41.249</td>\n",
       "      <td>88.973</td>\n",
       "    </tr>\n",
       "    <tr>\n",
       "      <th>45</th>\n",
       "      <td>45.213</td>\n",
       "      <td>76.957</td>\n",
       "    </tr>\n",
       "    <tr>\n",
       "      <th>46</th>\n",
       "      <td>45.397</td>\n",
       "      <td>78.698</td>\n",
       "    </tr>\n",
       "    <tr>\n",
       "      <th>47</th>\n",
       "      <td>46.923</td>\n",
       "      <td>90.384</td>\n",
       "    </tr>\n",
       "    <tr>\n",
       "      <th>48</th>\n",
       "      <td>47.818</td>\n",
       "      <td>94.945</td>\n",
       "    </tr>\n",
       "    <tr>\n",
       "      <th>49</th>\n",
       "      <td>48.011</td>\n",
       "      <td>86.968</td>\n",
       "    </tr>\n",
       "  </tbody>\n",
       "</table>\n",
       "</div>"
      ],
      "text/plain": [
       "    revision_time  exam_score\n",
       "0           2.723      27.682\n",
       "1           2.844      22.998\n",
       "2           3.303      19.765\n",
       "3           3.588      24.481\n",
       "4           4.050      22.974\n",
       "5           4.080      27.086\n",
       "6           5.674      26.136\n",
       "7           6.060      27.038\n",
       "8           6.347      31.283\n",
       "9           6.819      14.731\n",
       "10          7.098      28.946\n",
       "11          7.515      26.901\n",
       "12          8.356      35.299\n",
       "13          9.214      24.228\n",
       "14         10.364      34.651\n",
       "15         10.510      34.667\n",
       "16         12.102      34.848\n",
       "17         13.187      37.266\n",
       "18         16.692      43.491\n",
       "19         16.977      45.201\n",
       "20         18.330      40.924\n",
       "21         19.599      48.321\n",
       "22         20.321      49.574\n",
       "23         21.280      47.239\n",
       "24         21.578      45.582\n",
       "25         21.798      53.182\n",
       "26         22.048      39.956\n",
       "27         24.949      52.697\n",
       "28         25.147      54.900\n",
       "29         26.495      66.065\n",
       "30         26.535      60.068\n",
       "31         28.687      65.432\n",
       "32         29.055      47.340\n",
       "33         31.043      66.051\n",
       "34         32.176      62.916\n",
       "35         32.203      62.892\n",
       "36         32.226      52.066\n",
       "37         32.268      75.787\n",
       "38         32.711      71.807\n",
       "39         32.886      63.339\n",
       "40         34.489      59.794\n",
       "41         34.889      63.983\n",
       "42         37.299      68.714\n",
       "43         40.875      70.767\n",
       "44         41.249      88.973\n",
       "45         45.213      76.957\n",
       "46         45.397      78.698\n",
       "47         46.923      90.384\n",
       "48         47.818      94.945\n",
       "49         48.011      86.968"
      ]
     },
     "execution_count": 5,
     "metadata": {},
     "output_type": "execute_result"
    }
   ],
   "source": [
    "data_regression_part1"
   ]
  },
  {
   "cell_type": "code",
   "execution_count": 6,
   "metadata": {},
   "outputs": [
    {
     "data": {
      "text/html": [
       "<div>\n",
       "<style scoped>\n",
       "    .dataframe tbody tr th:only-of-type {\n",
       "        vertical-align: middle;\n",
       "    }\n",
       "\n",
       "    .dataframe tbody tr th {\n",
       "        vertical-align: top;\n",
       "    }\n",
       "\n",
       "    .dataframe thead th {\n",
       "        text-align: right;\n",
       "    }\n",
       "</style>\n",
       "<table border=\"1\" class=\"dataframe\">\n",
       "  <thead>\n",
       "    <tr style=\"text-align: right;\">\n",
       "      <th></th>\n",
       "      <th>revision_time</th>\n",
       "      <th>exam_score</th>\n",
       "    </tr>\n",
       "  </thead>\n",
       "  <tbody>\n",
       "    <tr>\n",
       "      <th>count</th>\n",
       "      <td>50.000000</td>\n",
       "      <td>50.000000</td>\n",
       "    </tr>\n",
       "    <tr>\n",
       "      <th>mean</th>\n",
       "      <td>22.220020</td>\n",
       "      <td>49.919860</td>\n",
       "    </tr>\n",
       "    <tr>\n",
       "      <th>std</th>\n",
       "      <td>13.986112</td>\n",
       "      <td>20.925594</td>\n",
       "    </tr>\n",
       "    <tr>\n",
       "      <th>min</th>\n",
       "      <td>2.723000</td>\n",
       "      <td>14.731000</td>\n",
       "    </tr>\n",
       "    <tr>\n",
       "      <th>25%</th>\n",
       "      <td>8.570500</td>\n",
       "      <td>32.125000</td>\n",
       "    </tr>\n",
       "    <tr>\n",
       "      <th>50%</th>\n",
       "      <td>21.688000</td>\n",
       "      <td>47.830500</td>\n",
       "    </tr>\n",
       "    <tr>\n",
       "      <th>75%</th>\n",
       "      <td>32.257500</td>\n",
       "      <td>65.069750</td>\n",
       "    </tr>\n",
       "    <tr>\n",
       "      <th>max</th>\n",
       "      <td>48.011000</td>\n",
       "      <td>94.945000</td>\n",
       "    </tr>\n",
       "  </tbody>\n",
       "</table>\n",
       "</div>"
      ],
      "text/plain": [
       "       revision_time  exam_score\n",
       "count      50.000000   50.000000\n",
       "mean       22.220020   49.919860\n",
       "std        13.986112   20.925594\n",
       "min         2.723000   14.731000\n",
       "25%         8.570500   32.125000\n",
       "50%        21.688000   47.830500\n",
       "75%        32.257500   65.069750\n",
       "max        48.011000   94.945000"
      ]
     },
     "execution_count": 6,
     "metadata": {},
     "output_type": "execute_result"
    }
   ],
   "source": [
    "data_regression_part1.describe()"
   ]
  },
  {
   "cell_type": "markdown",
   "metadata": {},
   "source": [
    "Data size: 50\n",
    "Data range: \n",
    "    r_time.min = 2.72\n",
    "    r_time.max = 48.01\n",
    "    e_score.min = 14.7\n",
    "    e_score.max = 94.9\n",
    "Data type: double, 3 decimal places"
   ]
  },
  {
   "cell_type": "code",
   "execution_count": 7,
   "metadata": {},
   "outputs": [],
   "source": [
    "#IMPORTANT\n",
    "r_time = np.array(data_regression_part1['revision_time'],dtype=np.float).reshape((-1, 1))\n",
    "e_score = np.array(data_regression_part1['exam_score'],dtype=np.float)"
   ]
  },
  {
   "cell_type": "code",
   "execution_count": 8,
   "metadata": {
    "scrolled": false
   },
   "outputs": [
    {
     "data": {
      "image/png": "[encoded data removed]",
      "text/plain": [
       "<Figure size 576x432 with 1 Axes>"
      ]
     },
     "metadata": {
      "needs_background": "light"
     },
     "output_type": "display_data"
    },
    {
     "name": "stdout",
     "output_type": "stream",
     "text": [
      "=====\n",
      "Coefficient\n",
      "[1.44114091]\n",
      "=====\n",
      "MSE_sklearn\n",
      "30.985472614541305\n",
      "=====\n",
      "=====\n",
      "Intercept\n",
      "17.89768025835017\n",
      "=====\n"
     ]
    }
   ],
   "source": [
    "# NO Pre-pend\n",
    "from sklearn.linear_model import LinearRegression\n",
    "\n",
    "linear_regression = LinearRegression(fit_intercept = True)\n",
    "plot_fit = linear_regression.fit(r_time, e_score)\n",
    "\n",
    "x = r_time\n",
    "y = plot_fit.predict(r_time)\n",
    "\n",
    "plt.figure(figsize=(8,6))\n",
    "plt.scatter(r_time, e_score)\n",
    "plt.plot(x, y)\n",
    "plt.show()\n",
    "\n",
    "from sklearn import metrics\n",
    "print(\"=====\")\n",
    "print(\"Coefficient\")\n",
    "print(plot_fit.coef_)\n",
    "print(\"=====\")\n",
    "print(\"MSE_sklearn\")\n",
    "print(metrics.mean_squared_error(e_score, y))\n",
    "print(\"=====\")\n",
    "print(\"=====\")\n",
    "print(\"Intercept\")\n",
    "print(plot_fit.intercept_)\n",
    "print(\"=====\")"
   ]
  },
  {
   "cell_type": "code",
   "execution_count": 9,
   "metadata": {},
   "outputs": [
    {
     "name": "stdout",
     "output_type": "stream",
     "text": [
      "(50, 2)\n",
      "(50, 1)\n"
     ]
    }
   ],
   "source": [
    "#Pre pend\n",
    "from sklearn.linear_model import LinearRegression\n",
    "\n",
    "pre_pend = np.ones(50).reshape((-1, 1))\n",
    "\n",
    "new_r_time = np.append(pre_pend, r_time, axis = 1)\n",
    "new_e_score = e_score.reshape((-1, 1))\n",
    "\n",
    "print(new_r_time.shape)\n",
    "print(new_e_score.shape)"
   ]
  },
  {
   "cell_type": "code",
   "execution_count": 10,
   "metadata": {},
   "outputs": [
    {
     "name": "stdout",
     "output_type": "stream",
     "text": [
      "=====\n",
      "Coefficient\n",
      "[[17.89768026  1.44114091]]\n",
      "=====\n",
      "new_MSE_sklearn\n",
      "30.9854726145413\n",
      "=====\n"
     ]
    },
    {
     "data": {
      "image/png": "[encoded data removed]",
      "text/plain": [
       "<Figure size 576x432 with 1 Axes>"
      ]
     },
     "metadata": {
      "needs_background": "light"
     },
     "output_type": "display_data"
    }
   ],
   "source": [
    "from sklearn.linear_model import LinearRegression\n",
    "new_linear_regression = LinearRegression(fit_intercept = False)\n",
    "new_fit = new_linear_regression.fit(new_r_time, new_e_score)\n",
    "\n",
    "new_x = new_r_time\n",
    "new_y = new_fit.predict(new_x)\n",
    "\n",
    "plt.figure(figsize=(8,6))\n",
    "plt.scatter(r_time, e_score)\n",
    "plt.plot(r_time, new_y)\n",
    "plt.show\n",
    "\n",
    "from sklearn import metrics\n",
    "print(\"=====\")\n",
    "print(\"Coefficient\")\n",
    "print(new_fit.coef_)\n",
    "print(\"=====\")\n",
    "print(\"new_MSE_sklearn\")\n",
    "MSE_sklearn = metrics.mean_squared_error(e_score, new_y)\n",
    "print(metrics.mean_squared_error(e_score, new_y))\n",
    "print(\"=====\")"
   ]
  },
  {
   "cell_type": "code",
   "execution_count": 11,
   "metadata": {},
   "outputs": [
    {
     "name": "stdout",
     "output_type": "stream",
     "text": [
      "=====\n",
      "w\n",
      "[[17.89768026  1.44114091]]\n",
      "=====\n"
     ]
    }
   ],
   "source": [
    "#Report the parameters w:\n",
    "print(\"=====\")\n",
    "print(\"w\")\n",
    "print(new_fit.coef_)\n",
    "print(\"=====\")"
   ]
  },
  {
   "cell_type": "raw",
   "metadata": {},
   "source": [
    "parameters w:\n",
    "    intercept: 17.89768026, gradient: 1.44114091"
   ]
  },
  {
   "cell_type": "code",
   "execution_count": 12,
   "metadata": {},
   "outputs": [],
   "source": [
    "#my estimating w\n",
    "my_y = [my_y for my_y in data_regression_part1['exam_score']]\n",
    "my_r_time = np.array(data_regression_part1['revision_time']).reshape(-1, 1)\n",
    "my_x = np.array([[1,my_x[0]] for my_x in my_r_time])\n",
    "my_w = (np.linalg.inv(my_x.T.dot(my_x)).dot(my_x.T).dot(my_y))"
   ]
  },
  {
   "cell_type": "code",
   "execution_count": 13,
   "metadata": {},
   "outputs": [
    {
     "data": {
      "text/plain": [
       "array([17.89768026,  1.44114091])"
      ]
     },
     "execution_count": 13,
     "metadata": {},
     "output_type": "execute_result"
    }
   ],
   "source": [
    "my_w"
   ]
  },
  {
   "cell_type": "code",
   "execution_count": 14,
   "metadata": {},
   "outputs": [],
   "source": [
    "predict_y = my_x.dot(my_w)"
   ]
  },
  {
   "cell_type": "code",
   "execution_count": 15,
   "metadata": {},
   "outputs": [],
   "source": [
    "E = []\n",
    "for i in range(len(my_y)):\n",
    "    E.append(predict_y[i] - y[i])"
   ]
  },
  {
   "cell_type": "code",
   "execution_count": 16,
   "metadata": {},
   "outputs": [],
   "source": [
    "SE = []\n",
    "for j in E:\n",
    "    SE.append(j**2)"
   ]
  },
  {
   "cell_type": "code",
   "execution_count": 17,
   "metadata": {},
   "outputs": [
    {
     "name": "stdout",
     "output_type": "stream",
     "text": [
      "30.9854726145413\n",
      "=====\n",
      "2.6076586082985766e-28\n"
     ]
    }
   ],
   "source": [
    "my_MSE = np.mean(np.array(SE))\n",
    "\n",
    "print(MSE_sklearn)\n",
    "print(\"=====\")\n",
    "print(my_MSE)"
   ]
  },
  {
   "cell_type": "code",
   "execution_count": 18,
   "metadata": {},
   "outputs": [
    {
     "name": "stdout",
     "output_type": "stream",
     "text": [
      "=====\n",
      "closed-form w\n",
      "[17.89768026  1.44114091]\n",
      "=====\n",
      "regression coefficient\n",
      "[[17.89768026  1.44114091]]\n",
      "=====\n"
     ]
    }
   ],
   "source": [
    "print(\"=====\")\n",
    "print(\"closed-form w\")\n",
    "print(my_w)\n",
    "print(\"=====\")\n",
    "print(\"regression coefficient\")\n",
    "print(new_fit.coef_)\n",
    "print(\"=====\")"
   ]
  },
  {
   "cell_type": "raw",
   "metadata": {},
   "source": [
    "If there are outliers in the sample, MSE will give higher weight to the outliers but lower weight to normal data points, which will eventually reduce the overall performance of the model."
   ]
  },
  {
   "cell_type": "code",
   "execution_count": 19,
   "metadata": {},
   "outputs": [
    {
     "name": "stdout",
     "output_type": "stream",
     "text": [
      "30.9854726145413\n",
      "=====\n",
      "2.6076586082985766e-28\n"
     ]
    }
   ],
   "source": [
    "print(metrics.mean_squared_error(e_score, new_y))\n",
    "print(\"=====\")\n",
    "print(my_MSE)"
   ]
  },
  {
   "cell_type": "code",
   "execution_count": 20,
   "metadata": {},
   "outputs": [],
   "source": [
    "w1 = np.linspace(-2,2, 100).reshape((-1, 1))\n",
    "w0 = np.ones(100).reshape((-1,1))\n",
    "for i in range(len(w0)):\n",
    "    w0[i] = 20\n",
    "g_w = np.append(w0, w1, axis=1)"
   ]
  },
  {
   "cell_type": "code",
   "execution_count": null,
   "metadata": {},
   "outputs": [],
   "source": []
  },
  {
   "cell_type": "code",
   "execution_count": 21,
   "metadata": {},
   "outputs": [
    {
     "data": {
      "text/plain": [
       "array([ 25.446,  25.688,  26.606,  27.176,  28.1  ,  28.16 ,  31.348,\n",
       "        32.12 ,  32.694,  33.638,  34.196,  35.03 ,  36.712,  38.428,\n",
       "        40.728,  41.02 ,  44.204,  46.374,  53.384,  53.954,  56.66 ,\n",
       "        59.198,  60.642,  62.56 ,  63.156,  63.596,  64.096,  69.898,\n",
       "        70.294,  72.99 ,  73.07 ,  77.374,  78.11 ,  82.086,  84.352,\n",
       "        84.406,  84.452,  84.536,  85.422,  85.772,  88.978,  89.778,\n",
       "        94.598, 101.75 , 102.498, 110.426, 110.794, 113.846, 115.636,\n",
       "       116.022])"
      ]
     },
     "execution_count": 21,
     "metadata": {},
     "output_type": "execute_result"
    }
   ],
   "source": [
    "a = my_x.dot(g_w[99])\n",
    "\n",
    "a"
   ]
  },
  {
   "cell_type": "code",
   "execution_count": 22,
   "metadata": {},
   "outputs": [
    {
     "data": {
      "text/plain": [
       "array([20.        ,  1.35353535])"
      ]
     },
     "execution_count": 22,
     "metadata": {},
     "output_type": "execute_result"
    }
   ],
   "source": [
    "g_MSE = []\n",
    "for i in range(len(g_w)):\n",
    "    g_MSE.append(metrics.mean_squared_error(my_x.dot(g_w[i]), my_y))\n",
    "    \n",
    "index_min = np.argmin(np.array(g_MSE))\n",
    "g_MSE[index_min]\n",
    "g_w[index_min]"
   ]
  },
  {
   "cell_type": "code",
   "execution_count": 23,
   "metadata": {},
   "outputs": [
    {
     "data": {
      "text/plain": [
       "<function matplotlib.pyplot.show(*args, **kw)>"
      ]
     },
     "execution_count": 23,
     "metadata": {},
     "output_type": "execute_result"
    },
    {
     "data": {
      "image/png": "[encoded data removed]",
      "text/plain": [
       "<Figure size 576x432 with 1 Axes>"
      ]
     },
     "metadata": {
      "needs_background": "light"
     },
     "output_type": "display_data"
    }
   ],
   "source": [
    "plt.figure(figsize=(8,6))\n",
    "plt.plot(w1, np.array(g_MSE), label = \"MSE\")\n",
    "plt.xlabel('w1')\n",
    "plt.ylabel('MSE')\n",
    "plt.title(\"Q1_(g)\")\n",
    "plt.legend()\n",
    "plt.show"
   ]
  },
  {
   "cell_type": "code",
   "execution_count": 24,
   "metadata": {},
   "outputs": [
    {
     "data": {
      "text/html": [
       "<div>\n",
       "<style scoped>\n",
       "    .dataframe tbody tr th:only-of-type {\n",
       "        vertical-align: middle;\n",
       "    }\n",
       "\n",
       "    .dataframe tbody tr th {\n",
       "        vertical-align: top;\n",
       "    }\n",
       "\n",
       "    .dataframe thead th {\n",
       "        text-align: right;\n",
       "    }\n",
       "</style>\n",
       "<table border=\"1\" class=\"dataframe\">\n",
       "  <thead>\n",
       "    <tr style=\"text-align: right;\">\n",
       "      <th></th>\n",
       "      <th>input</th>\n",
       "      <th>output</th>\n",
       "    </tr>\n",
       "  </thead>\n",
       "  <tbody>\n",
       "    <tr>\n",
       "      <th>0</th>\n",
       "      <td>2.728</td>\n",
       "      <td>9.088</td>\n",
       "    </tr>\n",
       "    <tr>\n",
       "      <th>1</th>\n",
       "      <td>3.244</td>\n",
       "      <td>12.786</td>\n",
       "    </tr>\n",
       "    <tr>\n",
       "      <th>2</th>\n",
       "      <td>-4.164</td>\n",
       "      <td>-10.016</td>\n",
       "    </tr>\n",
       "    <tr>\n",
       "      <th>3</th>\n",
       "      <td>4.875</td>\n",
       "      <td>32.976</td>\n",
       "    </tr>\n",
       "    <tr>\n",
       "      <th>4</th>\n",
       "      <td>3.329</td>\n",
       "      <td>10.437</td>\n",
       "    </tr>\n",
       "    <tr>\n",
       "      <th>5</th>\n",
       "      <td>4.268</td>\n",
       "      <td>21.681</td>\n",
       "    </tr>\n",
       "    <tr>\n",
       "      <th>6</th>\n",
       "      <td>-2.879</td>\n",
       "      <td>-5.204</td>\n",
       "    </tr>\n",
       "    <tr>\n",
       "      <th>7</th>\n",
       "      <td>-2.276</td>\n",
       "      <td>-1.465</td>\n",
       "    </tr>\n",
       "    <tr>\n",
       "      <th>8</th>\n",
       "      <td>2.688</td>\n",
       "      <td>8.539</td>\n",
       "    </tr>\n",
       "    <tr>\n",
       "      <th>9</th>\n",
       "      <td>2.780</td>\n",
       "      <td>6.929</td>\n",
       "    </tr>\n",
       "    <tr>\n",
       "      <th>10</th>\n",
       "      <td>3.874</td>\n",
       "      <td>15.765</td>\n",
       "    </tr>\n",
       "    <tr>\n",
       "      <th>11</th>\n",
       "      <td>-4.826</td>\n",
       "      <td>-15.577</td>\n",
       "    </tr>\n",
       "    <tr>\n",
       "      <th>12</th>\n",
       "      <td>2.633</td>\n",
       "      <td>11.382</td>\n",
       "    </tr>\n",
       "    <tr>\n",
       "      <th>13</th>\n",
       "      <td>2.815</td>\n",
       "      <td>9.853</td>\n",
       "    </tr>\n",
       "    <tr>\n",
       "      <th>14</th>\n",
       "      <td>4.441</td>\n",
       "      <td>24.914</td>\n",
       "    </tr>\n",
       "    <tr>\n",
       "      <th>15</th>\n",
       "      <td>1.345</td>\n",
       "      <td>3.977</td>\n",
       "    </tr>\n",
       "    <tr>\n",
       "      <th>16</th>\n",
       "      <td>-4.616</td>\n",
       "      <td>-15.291</td>\n",
       "    </tr>\n",
       "    <tr>\n",
       "      <th>17</th>\n",
       "      <td>1.405</td>\n",
       "      <td>-0.154</td>\n",
       "    </tr>\n",
       "    <tr>\n",
       "      <th>18</th>\n",
       "      <td>-2.588</td>\n",
       "      <td>-0.988</td>\n",
       "    </tr>\n",
       "    <tr>\n",
       "      <th>19</th>\n",
       "      <td>0.992</td>\n",
       "      <td>-1.133</td>\n",
       "    </tr>\n",
       "    <tr>\n",
       "      <th>20</th>\n",
       "      <td>3.276</td>\n",
       "      <td>10.743</td>\n",
       "    </tr>\n",
       "    <tr>\n",
       "      <th>21</th>\n",
       "      <td>-0.597</td>\n",
       "      <td>0.536</td>\n",
       "    </tr>\n",
       "    <tr>\n",
       "      <th>22</th>\n",
       "      <td>-3.772</td>\n",
       "      <td>-6.342</td>\n",
       "    </tr>\n",
       "    <tr>\n",
       "      <th>23</th>\n",
       "      <td>-2.848</td>\n",
       "      <td>-1.673</td>\n",
       "    </tr>\n",
       "    <tr>\n",
       "      <th>24</th>\n",
       "      <td>4.310</td>\n",
       "      <td>25.919</td>\n",
       "    </tr>\n",
       "  </tbody>\n",
       "</table>\n",
       "</div>"
      ],
      "text/plain": [
       "    input  output\n",
       "0   2.728   9.088\n",
       "1   3.244  12.786\n",
       "2  -4.164 -10.016\n",
       "3   4.875  32.976\n",
       "4   3.329  10.437\n",
       "5   4.268  21.681\n",
       "6  -2.879  -5.204\n",
       "7  -2.276  -1.465\n",
       "8   2.688   8.539\n",
       "9   2.780   6.929\n",
       "10  3.874  15.765\n",
       "11 -4.826 -15.577\n",
       "12  2.633  11.382\n",
       "13  2.815   9.853\n",
       "14  4.441  24.914\n",
       "15  1.345   3.977\n",
       "16 -4.616 -15.291\n",
       "17  1.405  -0.154\n",
       "18 -2.588  -0.988\n",
       "19  0.992  -1.133\n",
       "20  3.276  10.743\n",
       "21 -0.597   0.536\n",
       "22 -3.772  -6.342\n",
       "23 -2.848  -1.673\n",
       "24  4.310  25.919"
      ]
     },
     "execution_count": 24,
     "metadata": {},
     "output_type": "execute_result"
    }
   ],
   "source": [
    "# Read file regression_part2.csv\n",
    "import os\n",
    "\n",
    "path_regression_part2 = os.path.join(os.getcwd(), 'data', 'regression_part2.csv')\n",
    "data_regression_part2 = pd.read_csv(path_regression_part2, delimiter = ',')\n",
    "\n",
    "data_regression_part2"
   ]
  },
  {
   "cell_type": "code",
   "execution_count": 25,
   "metadata": {},
   "outputs": [],
   "source": [
    "#IMPORTANT\n",
    "input_p2 = np.array(data_regression_part2['input']).reshape((-1, 1))\n",
    "output_p2 = np.array(data_regression_part2['output'])"
   ]
  },
  {
   "cell_type": "code",
   "execution_count": 26,
   "metadata": {},
   "outputs": [
    {
     "data": {
      "text/plain": [
       "array([[ 2.728],\n",
       "       [ 3.244],\n",
       "       [-4.164],\n",
       "       [ 4.875],\n",
       "       [ 3.329],\n",
       "       [ 4.268],\n",
       "       [-2.879],\n",
       "       [-2.276],\n",
       "       [ 2.688],\n",
       "       [ 2.78 ],\n",
       "       [ 3.874],\n",
       "       [-4.826],\n",
       "       [ 2.633],\n",
       "       [ 2.815],\n",
       "       [ 4.441],\n",
       "       [ 1.345],\n",
       "       [-4.616],\n",
       "       [ 1.405],\n",
       "       [-2.588],\n",
       "       [ 0.992],\n",
       "       [ 3.276],\n",
       "       [-0.597],\n",
       "       [-3.772],\n",
       "       [-2.848],\n",
       "       [ 4.31 ]])"
      ]
     },
     "execution_count": 26,
     "metadata": {},
     "output_type": "execute_result"
    }
   ],
   "source": [
    "input_p2"
   ]
  },
  {
   "cell_type": "code",
   "execution_count": 27,
   "metadata": {},
   "outputs": [],
   "source": [
    "from sklearn.preprocessing import PolynomialFeatures\n",
    "\n",
    "x_d1 = PolynomialFeatures(degree=1).fit_transform(input_p2)\n",
    "x_d2 = PolynomialFeatures(degree=2).fit_transform(input_p2)\n",
    "x_d3 = PolynomialFeatures(degree=3).fit_transform(input_p2)\n",
    "x_d4 = PolynomialFeatures(degree=4).fit_transform(input_p2)\n",
    "\n",
    "fit_d1 = LinearRegression(fit_intercept = False).fit(x_d1, output_p2)\n",
    "fit_d2 = LinearRegression(fit_intercept = False).fit(x_d2, output_p2)\n",
    "fit_d3 = LinearRegression(fit_intercept = False).fit(x_d3, output_p2)\n",
    "fit_d4 = LinearRegression(fit_intercept = False).fit(x_d4, output_p2)\n",
    "\n",
    "y_d1 = fit_d1.predict(x_d1)\n",
    "y_d2 = fit_d2.predict(x_d2)\n",
    "y_d3 = fit_d3.predict(x_d3)\n",
    "y_d4 = fit_d4.predict(x_d4)"
   ]
  },
  {
   "cell_type": "code",
   "execution_count": 28,
   "metadata": {},
   "outputs": [],
   "source": [
    "raw_d2 = np.append(input_p2, y_d2.reshape((-1,1)), axis = 1)\n",
    "\n",
    "raw_d3 = np.append(input_p2, y_d3.reshape((-1,1)), axis = 1)\n",
    "\n",
    "raw_d4 = np.append(input_p2, y_d4.reshape((-1,1)), axis = 1)"
   ]
  },
  {
   "cell_type": "code",
   "execution_count": 29,
   "metadata": {},
   "outputs": [],
   "source": [
    "new_sted_d2 = raw_d2[np.argsort(raw_d2[:,0])]\n",
    "\n",
    "new_sted_d3 = raw_d3[np.argsort(raw_d3[:,0])]\n",
    "\n",
    "new_sted_d4 = raw_d4[np.argsort(raw_d4[:,0])]"
   ]
  },
  {
   "cell_type": "code",
   "execution_count": 30,
   "metadata": {},
   "outputs": [
    {
     "data": {
      "text/plain": [
       "<matplotlib.legend.Legend at 0x1ea13d840c8>"
      ]
     },
     "execution_count": 30,
     "metadata": {},
     "output_type": "execute_result"
    },
    {
     "data": {
      "image/png": "[encoded data removed]",
      "text/plain": [
       "<Figure size 576x432 with 1 Axes>"
      ]
     },
     "metadata": {
      "needs_background": "light"
     },
     "output_type": "display_data"
    }
   ],
   "source": [
    "plt.figure(figsize=(8,6))\n",
    "plt.scatter(input_p2, output_p2, c=\"black\")\n",
    "plt.plot(input_p2 , y_d1, label = \"M = 1\", c=\"blue\")\n",
    "plt.plot(new_sted_d2[:,0] , new_sted_d2[:,1],label = \"M = 2\",c=\"red\")\n",
    "plt.plot(new_sted_d3[:,0] , new_sted_d3[:,1],label = \"M = 3\",c=\"orange\")\n",
    "plt.plot(new_sted_d4[:,0] , new_sted_d4[:,1],label = \"M = 4\",c=\"green\")\n",
    "plt.xlabel('x')\n",
    "plt.ylabel('y')\n",
    "plt.title(\"Q2_(a)\")\n",
    "plt.legend()"
   ]
  },
  {
   "cell_type": "code",
   "execution_count": 31,
   "metadata": {},
   "outputs": [],
   "source": [
    "sted_d2 = np.sort(raw_d2, axis=0)\n",
    "sted_d3 = np.sort(raw_d3, axis=0)\n",
    "sted_d4 = np.sort(raw_d4, axis=0)"
   ]
  },
  {
   "cell_type": "code",
   "execution_count": 32,
   "metadata": {},
   "outputs": [
    {
     "data": {
      "text/plain": [
       "[<matplotlib.lines.Line2D at 0x1ea13e93fc8>]"
      ]
     },
     "execution_count": 32,
     "metadata": {},
     "output_type": "execute_result"
    },
    {
     "data": {
      "image/png": "[encoded data removed]",
      "text/plain": [
       "<Figure size 576x432 with 1 Axes>"
      ]
     },
     "metadata": {
      "needs_background": "light"
     },
     "output_type": "display_data"
    }
   ],
   "source": [
    "plt.figure(figsize=(8,6))\n",
    "plt.scatter(input_p2, output_p2)\n",
    "plt.plot(input_p2 , y_d1)\n",
    "plt.plot(sted_d2[:,0] , sted_d2[:,1])\n",
    "plt.plot(sted_d3[:,0] , sted_d3[:,1])\n",
    "plt.plot(sted_d4[:,0] , sted_d4[:,1])"
   ]
  },
  {
   "cell_type": "code",
   "execution_count": 33,
   "metadata": {},
   "outputs": [
    {
     "name": "stdout",
     "output_type": "stream",
     "text": [
      "MSE\n",
      "24.744378032672856\n",
      "=====\n",
      "17.352926937873296\n",
      "=====\n",
      "2.7447567192524276\n",
      "=====\n",
      "2.7389111790755383\n"
     ]
    },
    {
     "data": {
      "text/plain": [
       "<matplotlib.legend.Legend at 0x1ea13f0fbc8>"
      ]
     },
     "execution_count": 33,
     "metadata": {},
     "output_type": "execute_result"
    },
    {
     "data": {
      "image/png": "[encoded data removed]",
      "text/plain": [
       "<Figure size 576x432 with 1 Axes>"
      ]
     },
     "metadata": {
      "needs_background": "light"
     },
     "output_type": "display_data"
    }
   ],
   "source": [
    "print(\"MSE\")\n",
    "MSE_d1 = metrics.mean_squared_error(output_p2, y_d1)\n",
    "print(MSE_d1)\n",
    "print(\"=====\")\n",
    "MSE_d2 = metrics.mean_squared_error(output_p2, y_d2)\n",
    "print(MSE_d2)\n",
    "print(\"=====\")\n",
    "MSE_d3 = metrics.mean_squared_error(output_p2, y_d3)\n",
    "print(MSE_d3)\n",
    "print(\"=====\")\n",
    "MSE_d4 = metrics.mean_squared_error(output_p2, y_d4)\n",
    "print(MSE_d4)\n",
    "\n",
    "MSE_p2 = np.ones(4)\n",
    "MSE_p2[0] = MSE_d1\n",
    "MSE_p2[1] = MSE_d2\n",
    "MSE_p2[2] = MSE_d3\n",
    "MSE_p2[3] = MSE_d4\n",
    "\n",
    "bar_x = [\"M=1\", \"M=2\", \"M=3\", \"M=4\"]\n",
    "\n",
    "plt.figure(figsize=(8,6))\n",
    "plt.bar(bar_x, MSE_p2, label = \"MSE\", alpha = 0.8)\n",
    "plt.xlabel('Polynomial Degree')\n",
    "plt.ylabel('MSE')\n",
    "plt.title(\"Q2_(b)\")\n",
    "plt.text(\"M=1\", MSE_d1, '%.3f' % MSE_d1, ha='center', va='bottom', fontsize=10)\n",
    "plt.text(\"M=2\", MSE_d2, '%.3f' % MSE_d2, ha='center', va='bottom', fontsize=10)\n",
    "plt.text(\"M=3\", MSE_d3, '%.3f' % MSE_d3, ha='center', va='bottom', fontsize=10)\n",
    "plt.text(\"M=4\", MSE_d4, '%.3f' % MSE_d4, ha='center', va='bottom', fontsize=10)\n",
    "plt.legend()"
   ]
  },
  {
   "cell_type": "code",
   "execution_count": 34,
   "metadata": {},
   "outputs": [],
   "source": [
    "c1 = -4.0\n",
    "c2 = -2.0\n",
    "c3 = 2.0\n",
    "c4 = 4.0\n",
    "\n",
    "a1 = 0.2\n",
    "a2 = 100\n",
    "a3 = 1000"
   ]
  },
  {
   "cell_type": "code",
   "execution_count": 35,
   "metadata": {},
   "outputs": [],
   "source": [
    "def setRBF(x, c, a):\n",
    "    import math\n",
    "    rbf = math.exp((-0.5*(x-c)**2)/(a**2))\n",
    "    return rbf"
   ]
  },
  {
   "cell_type": "code",
   "execution_count": 36,
   "metadata": {},
   "outputs": [],
   "source": [
    "Q2d_a1_c1 = []\n",
    "for i in input_p2:\n",
    "    Q2d_a1_c1.append(setRBF(i, c1, a1))\n",
    "\n",
    "Q2d_a1_c2 = []\n",
    "for i in input_p2:\n",
    "    Q2d_a1_c2.append(setRBF(i, c2, a1))\n",
    "    \n",
    "Q2d_a1_c3 = []\n",
    "for i in input_p2:\n",
    "    Q2d_a1_c3.append(setRBF(i, c3, a1))\n",
    "    \n",
    "Q2d_a1_c4 = []\n",
    "for i in input_p2:\n",
    "    Q2d_a1_c4.append(setRBF(i, c4, a1))\n",
    "    \n",
    "Q2d_a1_c1 = np.array(Q2d_a1_c1).reshape((-1,1))\n",
    "Q2d_a1_c2 = np.array(Q2d_a1_c2).reshape((-1,1))\n",
    "Q2d_a1_c3 = np.array(Q2d_a1_c3).reshape((-1,1))\n",
    "Q2d_a1_c4 = np.array(Q2d_a1_c4).reshape((-1,1))\n",
    "\n",
    "#a=0.2\n",
    "Q2d_a1 = np.append(np.ones(25).reshape((-1,1)), Q2d_a1_c1, axis = 1)\n",
    "Q2d_a1 = np.append(Q2d_a1, Q2d_a1_c2, axis = 1)\n",
    "Q2d_a1 = np.append(Q2d_a1, Q2d_a1_c3, axis = 1)          \n",
    "Q2d_a1 = np.append(Q2d_a1, Q2d_a1_c4, axis = 1)"
   ]
  },
  {
   "cell_type": "code",
   "execution_count": 37,
   "metadata": {},
   "outputs": [],
   "source": [
    "#new_fit_a1 = LinearRegression().fit(Q2d_a1, output_p2)\n",
    "#new_predict_a1 = new_fit_a1.predict(Q2d_a1)\n",
    "\n",
    "#new_raw_a1 = np.append(input_p2, new_predict_a1.reshape(-1,1), axis = 1)\n",
    "#new_sort_a1 = np.sort(new_raw_a1, axis=0)\n",
    "\n",
    "#plt.scatter(input_p2, new_predict_a1)\n",
    "#plt.scatter(input_p2, output_p2)\n",
    "#plt.plot(new_sort_a1[:,0],new_sort_a1[:,1])"
   ]
  },
  {
   "cell_type": "code",
   "execution_count": 38,
   "metadata": {},
   "outputs": [],
   "source": [
    "#new_raw_a1"
   ]
  },
  {
   "cell_type": "code",
   "execution_count": 39,
   "metadata": {
    "scrolled": false
   },
   "outputs": [],
   "source": [
    "#new_sort_a1"
   ]
  },
  {
   "cell_type": "code",
   "execution_count": 40,
   "metadata": {},
   "outputs": [],
   "source": [
    "Q2d_a2_c1 = []\n",
    "for i in input_p2:\n",
    "    Q2d_a2_c1.append(setRBF(i, c1, a2))\n",
    "\n",
    "Q2d_a2_c2 = []\n",
    "for i in input_p2:\n",
    "    Q2d_a2_c2.append(setRBF(i, c2, a2))\n",
    "    \n",
    "Q2d_a2_c3 = []\n",
    "for i in input_p2:\n",
    "    Q2d_a2_c3.append(setRBF(i, c3, a2))\n",
    "    \n",
    "Q2d_a2_c4 = []\n",
    "for i in input_p2:\n",
    "    Q2d_a2_c4.append(setRBF(i, c4, a2))\n",
    "    \n",
    "Q2d_a2_c1 = np.array(Q2d_a2_c1).reshape((-1,1))\n",
    "Q2d_a2_c2 = np.array(Q2d_a2_c2).reshape((-1,1))\n",
    "Q2d_a2_c3 = np.array(Q2d_a2_c3).reshape((-1,1))\n",
    "Q2d_a2_c4 = np.array(Q2d_a2_c4).reshape((-1,1))\n",
    "\n",
    "#a=0.2\n",
    "Q2d_a2 = np.append(np.ones(25).reshape((-1,1)), np.array(Q2d_a2_c1).reshape((-1,1)), axis = 1)\n",
    "Q2d_a2 = np.append(Q2d_a2, Q2d_a2_c2, axis = 1)\n",
    "Q2d_a2 = np.append(Q2d_a2, Q2d_a2_c3, axis = 1)          \n",
    "Q2d_a2 = np.append(Q2d_a2, Q2d_a2_c4, axis = 1)  "
   ]
  },
  {
   "cell_type": "code",
   "execution_count": 41,
   "metadata": {},
   "outputs": [],
   "source": [
    "Q2d_a3_c1 = []\n",
    "for i in input_p2:\n",
    "    Q2d_a3_c1.append(setRBF(i, c1, a3))\n",
    "\n",
    "Q2d_a3_c2 = []\n",
    "for i in input_p2:\n",
    "    Q2d_a3_c2.append(setRBF(i, c2, a3))\n",
    "    \n",
    "Q2d_a3_c3 = []\n",
    "for i in input_p2:\n",
    "    Q2d_a3_c3.append(setRBF(i, c3, a3))\n",
    "    \n",
    "Q2d_a3_c4 = []\n",
    "for i in input_p2:\n",
    "    Q2d_a3_c4.append(setRBF(i, c4, a3))\n",
    "    \n",
    "Q2d_a3_c1 = np.array(Q2d_a3_c1).reshape((-1,1))\n",
    "Q2d_a3_c2 = np.array(Q2d_a3_c2).reshape((-1,1))\n",
    "Q2d_a3_c3 = np.array(Q2d_a3_c3).reshape((-1,1))\n",
    "Q2d_a3_c4 = np.array(Q2d_a3_c4).reshape((-1,1))\n",
    "\n",
    "#a=0.2\n",
    "Q2d_a3 = np.append(np.ones(25).reshape((-1,1)),Q2d_a3_c1, axis = 1)\n",
    "Q2d_a3 = np.append(Q2d_a3, Q2d_a3_c2, axis = 1)\n",
    "Q2d_a3 = np.append(Q2d_a3, Q2d_a3_c3, axis = 1)          \n",
    "Q2d_a3 = np.append(Q2d_a3, Q2d_a3_c4, axis = 1)  "
   ]
  },
  {
   "cell_type": "code",
   "execution_count": null,
   "metadata": {
    "scrolled": false
   },
   "outputs": [],
   "source": []
  },
  {
   "cell_type": "code",
   "execution_count": 42,
   "metadata": {},
   "outputs": [],
   "source": [
    "fit_a1 = LinearRegression(fit_intercept = False).fit(Q2d_a1, output_p2)\n",
    "predict_a1 = fit_a1.predict(Q2d_a1)\n",
    "\n",
    "fit_a2 = LinearRegression(fit_intercept = False).fit(Q2d_a2, output_p2)\n",
    "predict_a2 = fit_a2.predict(Q2d_a2)\n",
    "\n",
    "fit_a3 = LinearRegression(fit_intercept = False).fit(Q2d_a3, output_p2)\n",
    "predict_a3 = fit_a3.predict(Q2d_a3)"
   ]
  },
  {
   "cell_type": "code",
   "execution_count": null,
   "metadata": {},
   "outputs": [],
   "source": []
  },
  {
   "cell_type": "code",
   "execution_count": 43,
   "metadata": {},
   "outputs": [],
   "source": [
    "raw_a1 = np.append(input_p2, predict_a1.reshape(-1,1), axis = 1)\n",
    "sort_a1 = raw_a1[np.argsort(raw_a1[:,0])]\n",
    "\n",
    "raw_a2 = np.append(input_p2, predict_a2.reshape(-1,1), axis = 1)\n",
    "sort_a2 = raw_a2[np.argsort(raw_a2[:,0])]\n",
    "\n",
    "raw_a3 = np.append(input_p2, predict_a3.reshape(-1,1), axis = 1)\n",
    "sort_a3 = raw_a3[np.argsort(raw_a3[:,0])]"
   ]
  },
  {
   "cell_type": "code",
   "execution_count": null,
   "metadata": {},
   "outputs": [],
   "source": []
  },
  {
   "cell_type": "code",
   "execution_count": 45,
   "metadata": {},
   "outputs": [
    {
     "data": {
      "text/plain": [
       "[<matplotlib.lines.Line2D at 0x1ea13f717c8>]"
      ]
     },
     "execution_count": 45,
     "metadata": {},
     "output_type": "execute_result"
    },
    {
     "data": {
      "image/png": "[encoded data removed]",
      "text/plain": [
       "<Figure size 432x288 with 1 Axes>"
      ]
     },
     "metadata": {
      "needs_background": "light"
     },
     "output_type": "display_data"
    }
   ],
   "source": [
    "plt.scatter(input_p2, predict_a1)\n",
    "plt.scatter(input_p2, output_p2)\n",
    "plt.plot(sort_a1[:,0],sort_a1[:,1])"
   ]
  },
  {
   "cell_type": "code",
   "execution_count": 46,
   "metadata": {},
   "outputs": [
    {
     "data": {
      "text/plain": [
       "[<matplotlib.lines.Line2D at 0x1ea13fcd9c8>]"
      ]
     },
     "execution_count": 46,
     "metadata": {},
     "output_type": "execute_result"
    },
    {
     "data": {
      "image/png": "[encoded data removed]",
      "text/plain": [
       "<Figure size 432x288 with 1 Axes>"
      ]
     },
     "metadata": {
      "needs_background": "light"
     },
     "output_type": "display_data"
    }
   ],
   "source": [
    "plt.scatter(input_p2, predict_a2)\n",
    "plt.scatter(input_p2, output_p2)\n",
    "plt.plot(sort_a2[:,0],sort_a2[:,1])"
   ]
  },
  {
   "cell_type": "code",
   "execution_count": 47,
   "metadata": {},
   "outputs": [
    {
     "data": {
      "text/plain": [
       "[<matplotlib.lines.Line2D at 0x1ea1402d808>]"
      ]
     },
     "execution_count": 47,
     "metadata": {},
     "output_type": "execute_result"
    },
    {
     "data": {
      "image/png": "[encoded data removed]",
      "text/plain": [
       "<Figure size 432x288 with 1 Axes>"
      ]
     },
     "metadata": {
      "needs_background": "light"
     },
     "output_type": "display_data"
    }
   ],
   "source": [
    "plt.scatter(input_p2, predict_a3)\n",
    "plt.scatter(input_p2, output_p2)\n",
    "plt.plot(sort_a3[:,0],sort_a3[:,1])"
   ]
  },
  {
   "cell_type": "code",
   "execution_count": 48,
   "metadata": {},
   "outputs": [],
   "source": [
    "#plt.figure(figsize=(8,6))\n",
    "#plt.scatter(input_p2, output_p2)\n",
    "#plt.plot(new_sort_a1[:,0],new_sort_a1[:,1],\"r\")\n",
    "#plt.plot(sort_a2[:,0],sort_a2[:,1],\"b\")\n",
    "#plt.plot(sort_a3[:,0],sort_a3[:,1],\"y\")"
   ]
  },
  {
   "cell_type": "code",
   "execution_count": 49,
   "metadata": {},
   "outputs": [
    {
     "data": {
      "text/plain": [
       "<matplotlib.legend.Legend at 0x1ea13efd948>"
      ]
     },
     "execution_count": 49,
     "metadata": {},
     "output_type": "execute_result"
    },
    {
     "data": {
      "image/png": "[encoded data removed]",
      "text/plain": [
       "<Figure size 576x432 with 1 Axes>"
      ]
     },
     "metadata": {
      "needs_background": "light"
     },
     "output_type": "display_data"
    }
   ],
   "source": [
    "plt.figure(figsize=(8,6))\n",
    "plt.scatter(input_p2, output_p2, c= \"black\")\n",
    "plt.plot(sort_a1[:,0],sort_a1[:,1],\"r\", label = \"a = 0.2\")\n",
    "plt.plot(sort_a2[:,0],sort_a2[:,1],\"g\", label = \"a = 100\")\n",
    "plt.plot(sort_a3[:,0],sort_a3[:,1],\"b\", label = \"a = 1000\")\n",
    "plt.xlabel('input')\n",
    "plt.ylabel('output')\n",
    "plt.title(\"Q2_(d)\")\n",
    "plt.legend()"
   ]
  },
  {
   "cell_type": "code",
   "execution_count": 50,
   "metadata": {},
   "outputs": [],
   "source": [
    "# Read file faces_train.csv and faces_test.csv\n",
    "import os\n",
    "\n",
    "path_face_train = os.path.join(os.getcwd(), 'data', 'faces_train_data.csv')\n",
    "data_face_train = pd.read_csv(path_face_train, delimiter = ',')\n",
    "\n",
    "path_face_test = os.path.join(os.getcwd(), 'data', 'faces_test_data.csv')\n",
    "data_face_test = pd.read_csv(path_face_test, delimiter = ',')"
   ]
  },
  {
   "cell_type": "code",
   "execution_count": 51,
   "metadata": {
    "scrolled": true
   },
   "outputs": [
    {
     "data": {
      "text/html": [
       "<div>\n",
       "<style scoped>\n",
       "    .dataframe tbody tr th:only-of-type {\n",
       "        vertical-align: middle;\n",
       "    }\n",
       "\n",
       "    .dataframe tbody tr th {\n",
       "        vertical-align: top;\n",
       "    }\n",
       "\n",
       "    .dataframe thead th {\n",
       "        text-align: right;\n",
       "    }\n",
       "</style>\n",
       "<table border=\"1\" class=\"dataframe\">\n",
       "  <thead>\n",
       "    <tr style=\"text-align: right;\">\n",
       "      <th></th>\n",
       "      <th>x0</th>\n",
       "      <th>y0</th>\n",
       "      <th>x1</th>\n",
       "      <th>y1</th>\n",
       "      <th>x2</th>\n",
       "      <th>y2</th>\n",
       "      <th>x3</th>\n",
       "      <th>y3</th>\n",
       "      <th>x4</th>\n",
       "      <th>y4</th>\n",
       "      <th>...</th>\n",
       "      <th>y63</th>\n",
       "      <th>x64</th>\n",
       "      <th>y64</th>\n",
       "      <th>x65</th>\n",
       "      <th>y65</th>\n",
       "      <th>x66</th>\n",
       "      <th>y66</th>\n",
       "      <th>x67</th>\n",
       "      <th>y67</th>\n",
       "      <th>smiling</th>\n",
       "    </tr>\n",
       "  </thead>\n",
       "  <tbody>\n",
       "    <tr>\n",
       "      <th>0</th>\n",
       "      <td>-1.861</td>\n",
       "      <td>1.350</td>\n",
       "      <td>-1.835</td>\n",
       "      <td>0.892</td>\n",
       "      <td>-1.756</td>\n",
       "      <td>0.458</td>\n",
       "      <td>-1.704</td>\n",
       "      <td>-0.000</td>\n",
       "      <td>-1.625</td>\n",
       "      <td>-0.458</td>\n",
       "      <td>...</td>\n",
       "      <td>-0.160</td>\n",
       "      <td>0.498</td>\n",
       "      <td>-0.343</td>\n",
       "      <td>0.183</td>\n",
       "      <td>-0.389</td>\n",
       "      <td>-0.026</td>\n",
       "      <td>-0.389</td>\n",
       "      <td>-0.210</td>\n",
       "      <td>-0.389</td>\n",
       "      <td>0</td>\n",
       "    </tr>\n",
       "    <tr>\n",
       "      <th>1</th>\n",
       "      <td>-1.920</td>\n",
       "      <td>1.523</td>\n",
       "      <td>-1.920</td>\n",
       "      <td>1.066</td>\n",
       "      <td>-1.833</td>\n",
       "      <td>0.571</td>\n",
       "      <td>-1.746</td>\n",
       "      <td>0.076</td>\n",
       "      <td>-1.571</td>\n",
       "      <td>-0.343</td>\n",
       "      <td>...</td>\n",
       "      <td>-0.076</td>\n",
       "      <td>0.742</td>\n",
       "      <td>-0.076</td>\n",
       "      <td>0.262</td>\n",
       "      <td>-0.267</td>\n",
       "      <td>0.000</td>\n",
       "      <td>-0.305</td>\n",
       "      <td>-0.262</td>\n",
       "      <td>-0.267</td>\n",
       "      <td>1</td>\n",
       "    </tr>\n",
       "    <tr>\n",
       "      <th>2</th>\n",
       "      <td>-1.247</td>\n",
       "      <td>1.177</td>\n",
       "      <td>-1.256</td>\n",
       "      <td>0.806</td>\n",
       "      <td>-1.183</td>\n",
       "      <td>0.403</td>\n",
       "      <td>-0.983</td>\n",
       "      <td>0.008</td>\n",
       "      <td>-0.746</td>\n",
       "      <td>-0.371</td>\n",
       "      <td>...</td>\n",
       "      <td>-0.055</td>\n",
       "      <td>1.247</td>\n",
       "      <td>0.016</td>\n",
       "      <td>0.464</td>\n",
       "      <td>-0.506</td>\n",
       "      <td>0.173</td>\n",
       "      <td>-0.553</td>\n",
       "      <td>-0.082</td>\n",
       "      <td>-0.537</td>\n",
       "      <td>1</td>\n",
       "    </tr>\n",
       "    <tr>\n",
       "      <th>3</th>\n",
       "      <td>-1.660</td>\n",
       "      <td>1.812</td>\n",
       "      <td>-1.701</td>\n",
       "      <td>1.324</td>\n",
       "      <td>-1.660</td>\n",
       "      <td>0.801</td>\n",
       "      <td>-1.620</td>\n",
       "      <td>0.314</td>\n",
       "      <td>-1.498</td>\n",
       "      <td>-0.139</td>\n",
       "      <td>...</td>\n",
       "      <td>-0.070</td>\n",
       "      <td>0.891</td>\n",
       "      <td>-0.035</td>\n",
       "      <td>0.283</td>\n",
       "      <td>-0.279</td>\n",
       "      <td>0.000</td>\n",
       "      <td>-0.279</td>\n",
       "      <td>-0.283</td>\n",
       "      <td>-0.244</td>\n",
       "      <td>0</td>\n",
       "    </tr>\n",
       "    <tr>\n",
       "      <th>4</th>\n",
       "      <td>-1.776</td>\n",
       "      <td>1.551</td>\n",
       "      <td>-1.693</td>\n",
       "      <td>1.140</td>\n",
       "      <td>-1.549</td>\n",
       "      <td>0.729</td>\n",
       "      <td>-1.363</td>\n",
       "      <td>0.318</td>\n",
       "      <td>-1.115</td>\n",
       "      <td>-0.075</td>\n",
       "      <td>...</td>\n",
       "      <td>-0.093</td>\n",
       "      <td>0.764</td>\n",
       "      <td>0.056</td>\n",
       "      <td>0.227</td>\n",
       "      <td>-0.112</td>\n",
       "      <td>0.041</td>\n",
       "      <td>-0.150</td>\n",
       "      <td>-0.145</td>\n",
       "      <td>-0.131</td>\n",
       "      <td>0</td>\n",
       "    </tr>\n",
       "  </tbody>\n",
       "</table>\n",
       "<p>5 rows × 137 columns</p>\n",
       "</div>"
      ],
      "text/plain": [
       "      x0     y0     x1     y1     x2     y2     x3     y3     x4     y4  \\\n",
       "0 -1.861  1.350 -1.835  0.892 -1.756  0.458 -1.704 -0.000 -1.625 -0.458   \n",
       "1 -1.920  1.523 -1.920  1.066 -1.833  0.571 -1.746  0.076 -1.571 -0.343   \n",
       "2 -1.247  1.177 -1.256  0.806 -1.183  0.403 -0.983  0.008 -0.746 -0.371   \n",
       "3 -1.660  1.812 -1.701  1.324 -1.660  0.801 -1.620  0.314 -1.498 -0.139   \n",
       "4 -1.776  1.551 -1.693  1.140 -1.549  0.729 -1.363  0.318 -1.115 -0.075   \n",
       "\n",
       "    ...       y63    x64    y64    x65    y65    x66    y66    x67    y67  \\\n",
       "0   ...    -0.160  0.498 -0.343  0.183 -0.389 -0.026 -0.389 -0.210 -0.389   \n",
       "1   ...    -0.076  0.742 -0.076  0.262 -0.267  0.000 -0.305 -0.262 -0.267   \n",
       "2   ...    -0.055  1.247  0.016  0.464 -0.506  0.173 -0.553 -0.082 -0.537   \n",
       "3   ...    -0.070  0.891 -0.035  0.283 -0.279  0.000 -0.279 -0.283 -0.244   \n",
       "4   ...    -0.093  0.764  0.056  0.227 -0.112  0.041 -0.150 -0.145 -0.131   \n",
       "\n",
       "   smiling  \n",
       "0        0  \n",
       "1        1  \n",
       "2        1  \n",
       "3        0  \n",
       "4        0  \n",
       "\n",
       "[5 rows x 137 columns]"
      ]
     },
     "execution_count": 51,
     "metadata": {},
     "output_type": "execute_result"
    }
   ],
   "source": [
    "data_face_train.head(5)"
   ]
  },
  {
   "cell_type": "code",
   "execution_count": 52,
   "metadata": {},
   "outputs": [
    {
     "data": {
      "text/html": [
       "<div>\n",
       "<style scoped>\n",
       "    .dataframe tbody tr th:only-of-type {\n",
       "        vertical-align: middle;\n",
       "    }\n",
       "\n",
       "    .dataframe tbody tr th {\n",
       "        vertical-align: top;\n",
       "    }\n",
       "\n",
       "    .dataframe thead th {\n",
       "        text-align: right;\n",
       "    }\n",
       "</style>\n",
       "<table border=\"1\" class=\"dataframe\">\n",
       "  <thead>\n",
       "    <tr style=\"text-align: right;\">\n",
       "      <th></th>\n",
       "      <th>x0</th>\n",
       "      <th>y0</th>\n",
       "      <th>x1</th>\n",
       "      <th>y1</th>\n",
       "      <th>x2</th>\n",
       "      <th>y2</th>\n",
       "      <th>x3</th>\n",
       "      <th>y3</th>\n",
       "      <th>x4</th>\n",
       "      <th>y4</th>\n",
       "      <th>...</th>\n",
       "      <th>y63</th>\n",
       "      <th>x64</th>\n",
       "      <th>y64</th>\n",
       "      <th>x65</th>\n",
       "      <th>y65</th>\n",
       "      <th>x66</th>\n",
       "      <th>y66</th>\n",
       "      <th>x67</th>\n",
       "      <th>y67</th>\n",
       "      <th>smiling</th>\n",
       "    </tr>\n",
       "  </thead>\n",
       "  <tbody>\n",
       "    <tr>\n",
       "      <th>count</th>\n",
       "      <td>1200.000000</td>\n",
       "      <td>1200.000000</td>\n",
       "      <td>1200.000000</td>\n",
       "      <td>1200.000000</td>\n",
       "      <td>1200.000000</td>\n",
       "      <td>1200.000000</td>\n",
       "      <td>1200.000000</td>\n",
       "      <td>1200.000000</td>\n",
       "      <td>1200.000000</td>\n",
       "      <td>1200.000000</td>\n",
       "      <td>...</td>\n",
       "      <td>1200.000000</td>\n",
       "      <td>1200.000000</td>\n",
       "      <td>1200.000000</td>\n",
       "      <td>1200.000000</td>\n",
       "      <td>1200.000000</td>\n",
       "      <td>1200.000000</td>\n",
       "      <td>1200.000000</td>\n",
       "      <td>1200.000000</td>\n",
       "      <td>1200.000000</td>\n",
       "      <td>1200.000000</td>\n",
       "    </tr>\n",
       "    <tr>\n",
       "      <th>mean</th>\n",
       "      <td>-1.924105</td>\n",
       "      <td>1.466505</td>\n",
       "      <td>-1.913906</td>\n",
       "      <td>1.015347</td>\n",
       "      <td>-1.854442</td>\n",
       "      <td>0.556578</td>\n",
       "      <td>-1.742358</td>\n",
       "      <td>0.100410</td>\n",
       "      <td>-1.549113</td>\n",
       "      <td>-0.322024</td>\n",
       "      <td>...</td>\n",
       "      <td>-0.109595</td>\n",
       "      <td>0.686934</td>\n",
       "      <td>-0.101417</td>\n",
       "      <td>0.221621</td>\n",
       "      <td>-0.256826</td>\n",
       "      <td>0.004443</td>\n",
       "      <td>-0.281469</td>\n",
       "      <td>-0.211166</td>\n",
       "      <td>-0.262411</td>\n",
       "      <td>0.493333</td>\n",
       "    </tr>\n",
       "    <tr>\n",
       "      <th>std</th>\n",
       "      <td>0.586384</td>\n",
       "      <td>0.412054</td>\n",
       "      <td>0.548511</td>\n",
       "      <td>0.389851</td>\n",
       "      <td>0.529543</td>\n",
       "      <td>0.368793</td>\n",
       "      <td>0.524712</td>\n",
       "      <td>0.348176</td>\n",
       "      <td>0.498277</td>\n",
       "      <td>0.322613</td>\n",
       "      <td>...</td>\n",
       "      <td>0.049170</td>\n",
       "      <td>0.202535</td>\n",
       "      <td>0.147125</td>\n",
       "      <td>0.082986</td>\n",
       "      <td>0.141866</td>\n",
       "      <td>0.073667</td>\n",
       "      <td>0.139187</td>\n",
       "      <td>0.087036</td>\n",
       "      <td>0.137586</td>\n",
       "      <td>0.500164</td>\n",
       "    </tr>\n",
       "    <tr>\n",
       "      <th>min</th>\n",
       "      <td>-3.846000</td>\n",
       "      <td>-2.116000</td>\n",
       "      <td>-3.673000</td>\n",
       "      <td>-2.341000</td>\n",
       "      <td>-3.487000</td>\n",
       "      <td>-2.539000</td>\n",
       "      <td>-3.287000</td>\n",
       "      <td>-2.624000</td>\n",
       "      <td>-3.005000</td>\n",
       "      <td>-2.511000</td>\n",
       "      <td>...</td>\n",
       "      <td>-0.280000</td>\n",
       "      <td>-0.133000</td>\n",
       "      <td>-0.672000</td>\n",
       "      <td>-0.282000</td>\n",
       "      <td>-1.087000</td>\n",
       "      <td>-0.507000</td>\n",
       "      <td>-1.109000</td>\n",
       "      <td>-0.732000</td>\n",
       "      <td>-1.087000</td>\n",
       "      <td>0.000000</td>\n",
       "    </tr>\n",
       "    <tr>\n",
       "      <th>25%</th>\n",
       "      <td>-2.250000</td>\n",
       "      <td>1.243000</td>\n",
       "      <td>-2.220250</td>\n",
       "      <td>0.816000</td>\n",
       "      <td>-2.150000</td>\n",
       "      <td>0.364000</td>\n",
       "      <td>-2.049000</td>\n",
       "      <td>-0.092250</td>\n",
       "      <td>-1.843000</td>\n",
       "      <td>-0.502250</td>\n",
       "      <td>...</td>\n",
       "      <td>-0.138000</td>\n",
       "      <td>0.580000</td>\n",
       "      <td>-0.180000</td>\n",
       "      <td>0.185750</td>\n",
       "      <td>-0.347000</td>\n",
       "      <td>-0.027000</td>\n",
       "      <td>-0.374000</td>\n",
       "      <td>-0.254000</td>\n",
       "      <td>-0.353000</td>\n",
       "      <td>0.000000</td>\n",
       "    </tr>\n",
       "    <tr>\n",
       "      <th>50%</th>\n",
       "      <td>-1.949000</td>\n",
       "      <td>1.465000</td>\n",
       "      <td>-1.921000</td>\n",
       "      <td>1.016000</td>\n",
       "      <td>-1.860500</td>\n",
       "      <td>0.562500</td>\n",
       "      <td>-1.758500</td>\n",
       "      <td>0.105500</td>\n",
       "      <td>-1.582500</td>\n",
       "      <td>-0.316500</td>\n",
       "      <td>...</td>\n",
       "      <td>-0.108000</td>\n",
       "      <td>0.704000</td>\n",
       "      <td>-0.097500</td>\n",
       "      <td>0.225000</td>\n",
       "      <td>-0.240000</td>\n",
       "      <td>0.000000</td>\n",
       "      <td>-0.263000</td>\n",
       "      <td>-0.213000</td>\n",
       "      <td>-0.244000</td>\n",
       "      <td>0.000000</td>\n",
       "    </tr>\n",
       "    <tr>\n",
       "      <th>75%</th>\n",
       "      <td>-1.626250</td>\n",
       "      <td>1.686500</td>\n",
       "      <td>-1.627750</td>\n",
       "      <td>1.221500</td>\n",
       "      <td>-1.562750</td>\n",
       "      <td>0.753500</td>\n",
       "      <td>-1.448500</td>\n",
       "      <td>0.302000</td>\n",
       "      <td>-1.282000</td>\n",
       "      <td>-0.128500</td>\n",
       "      <td>...</td>\n",
       "      <td>-0.078000</td>\n",
       "      <td>0.816000</td>\n",
       "      <td>-0.000000</td>\n",
       "      <td>0.264000</td>\n",
       "      <td>-0.142000</td>\n",
       "      <td>0.036000</td>\n",
       "      <td>-0.166000</td>\n",
       "      <td>-0.175000</td>\n",
       "      <td>-0.155000</td>\n",
       "      <td>1.000000</td>\n",
       "    </tr>\n",
       "    <tr>\n",
       "      <th>max</th>\n",
       "      <td>1.613000</td>\n",
       "      <td>3.641000</td>\n",
       "      <td>1.067000</td>\n",
       "      <td>3.205000</td>\n",
       "      <td>0.522000</td>\n",
       "      <td>2.718000</td>\n",
       "      <td>0.000000</td>\n",
       "      <td>2.510000</td>\n",
       "      <td>0.309000</td>\n",
       "      <td>2.213000</td>\n",
       "      <td>...</td>\n",
       "      <td>0.248000</td>\n",
       "      <td>1.269000</td>\n",
       "      <td>0.702000</td>\n",
       "      <td>0.603000</td>\n",
       "      <td>0.248000</td>\n",
       "      <td>0.411000</td>\n",
       "      <td>0.041000</td>\n",
       "      <td>0.259000</td>\n",
       "      <td>0.168000</td>\n",
       "      <td>1.000000</td>\n",
       "    </tr>\n",
       "  </tbody>\n",
       "</table>\n",
       "<p>8 rows × 137 columns</p>\n",
       "</div>"
      ],
      "text/plain": [
       "                x0           y0           x1           y1           x2  \\\n",
       "count  1200.000000  1200.000000  1200.000000  1200.000000  1200.000000   \n",
       "mean     -1.924105     1.466505    -1.913906     1.015347    -1.854442   \n",
       "std       0.586384     0.412054     0.548511     0.389851     0.529543   \n",
       "min      -3.846000    -2.116000    -3.673000    -2.341000    -3.487000   \n",
       "25%      -2.250000     1.243000    -2.220250     0.816000    -2.150000   \n",
       "50%      -1.949000     1.465000    -1.921000     1.016000    -1.860500   \n",
       "75%      -1.626250     1.686500    -1.627750     1.221500    -1.562750   \n",
       "max       1.613000     3.641000     1.067000     3.205000     0.522000   \n",
       "\n",
       "                y2           x3           y3           x4           y4  \\\n",
       "count  1200.000000  1200.000000  1200.000000  1200.000000  1200.000000   \n",
       "mean      0.556578    -1.742358     0.100410    -1.549113    -0.322024   \n",
       "std       0.368793     0.524712     0.348176     0.498277     0.322613   \n",
       "min      -2.539000    -3.287000    -2.624000    -3.005000    -2.511000   \n",
       "25%       0.364000    -2.049000    -0.092250    -1.843000    -0.502250   \n",
       "50%       0.562500    -1.758500     0.105500    -1.582500    -0.316500   \n",
       "75%       0.753500    -1.448500     0.302000    -1.282000    -0.128500   \n",
       "max       2.718000     0.000000     2.510000     0.309000     2.213000   \n",
       "\n",
       "          ...               y63          x64          y64          x65  \\\n",
       "count     ...       1200.000000  1200.000000  1200.000000  1200.000000   \n",
       "mean      ...         -0.109595     0.686934    -0.101417     0.221621   \n",
       "std       ...          0.049170     0.202535     0.147125     0.082986   \n",
       "min       ...         -0.280000    -0.133000    -0.672000    -0.282000   \n",
       "25%       ...         -0.138000     0.580000    -0.180000     0.185750   \n",
       "50%       ...         -0.108000     0.704000    -0.097500     0.225000   \n",
       "75%       ...         -0.078000     0.816000    -0.000000     0.264000   \n",
       "max       ...          0.248000     1.269000     0.702000     0.603000   \n",
       "\n",
       "               y65          x66          y66          x67          y67  \\\n",
       "count  1200.000000  1200.000000  1200.000000  1200.000000  1200.000000   \n",
       "mean     -0.256826     0.004443    -0.281469    -0.211166    -0.262411   \n",
       "std       0.141866     0.073667     0.139187     0.087036     0.137586   \n",
       "min      -1.087000    -0.507000    -1.109000    -0.732000    -1.087000   \n",
       "25%      -0.347000    -0.027000    -0.374000    -0.254000    -0.353000   \n",
       "50%      -0.240000     0.000000    -0.263000    -0.213000    -0.244000   \n",
       "75%      -0.142000     0.036000    -0.166000    -0.175000    -0.155000   \n",
       "max       0.248000     0.411000     0.041000     0.259000     0.168000   \n",
       "\n",
       "           smiling  \n",
       "count  1200.000000  \n",
       "mean      0.493333  \n",
       "std       0.500164  \n",
       "min       0.000000  \n",
       "25%       0.000000  \n",
       "50%       0.000000  \n",
       "75%       1.000000  \n",
       "max       1.000000  \n",
       "\n",
       "[8 rows x 137 columns]"
      ]
     },
     "execution_count": 52,
     "metadata": {},
     "output_type": "execute_result"
    }
   ],
   "source": [
    "data_face_test.describe()"
   ]
  },
  {
   "cell_type": "code",
   "execution_count": 53,
   "metadata": {
    "scrolled": false
   },
   "outputs": [],
   "source": [
    "smile_train = data_face_train[data_face_train['smiling'] == 1].drop('smiling', axis = 1)\n",
    "n_smile_train = data_face_train[data_face_train['smiling'] == 0].drop('smiling', axis = 1)"
   ]
  },
  {
   "cell_type": "code",
   "execution_count": 54,
   "metadata": {},
   "outputs": [
    {
     "data": {
      "text/plain": [
       "(2335, 136)"
      ]
     },
     "execution_count": 54,
     "metadata": {},
     "output_type": "execute_result"
    }
   ],
   "source": [
    "smile_train.shape"
   ]
  },
  {
   "cell_type": "code",
   "execution_count": 55,
   "metadata": {},
   "outputs": [],
   "source": [
    "x_smile_train = smile_train.iloc[:,[i%2==0 for i in range(len(smile_train.columns))]]\n",
    "y_smile_train = smile_train.iloc[:,[i%2==1 for i in range(len(smile_train.columns))]]\n",
    "\n",
    "x_smile_train_mean = x_smile_train.describe().loc['mean']\n",
    "y_smile_train_mean = y_smile_train.describe().loc['mean']"
   ]
  },
  {
   "cell_type": "code",
   "execution_count": 56,
   "metadata": {},
   "outputs": [],
   "source": [
    "x_n_smile_train = n_smile_train.iloc[:,[i%2==0 for i in range(len(n_smile_train.columns))]]\n",
    "y_n_smile_train = n_smile_train.iloc[:,[i%2==1 for i in range(len(n_smile_train.columns))]]\n",
    "\n",
    "x_n_smile_train_mean = x_n_smile_train.describe().loc['mean']\n",
    "y_n_smile_train_mean = y_n_smile_train.describe().loc['mean']"
   ]
  },
  {
   "cell_type": "code",
   "execution_count": 57,
   "metadata": {
    "scrolled": false
   },
   "outputs": [
    {
     "data": {
      "text/plain": [
       "<matplotlib.legend.Legend at 0x1ea13d81ac8>"
      ]
     },
     "execution_count": 57,
     "metadata": {},
     "output_type": "execute_result"
    },
    {
     "data": {
      "image/png": "[encoded data removed]",
      "text/plain": [
       "<Figure size 432x432 with 1 Axes>"
      ]
     },
     "metadata": {
      "needs_background": "light"
     },
     "output_type": "display_data"
    }
   ],
   "source": [
    "plt.figure(figsize=(6,6))\n",
    "plt.scatter(x_smile_train_mean, y_smile_train_mean, label = \"smiling\")\n",
    "plt.scatter(x_n_smile_train_mean, y_n_smile_train_mean, label = \"non-smiling\")\n",
    "plt.xlabel('x')\n",
    "plt.ylabel('y')\n",
    "plt.title(\"Q3_(b)\")\n",
    "plt.legend()"
   ]
  },
  {
   "cell_type": "code",
   "execution_count": 58,
   "metadata": {},
   "outputs": [],
   "source": [
    "from sklearn.tree import DecisionTreeClassifier\n",
    "max_2 = DecisionTreeClassifier(random_state=2001, max_depth = 2)\n",
    "max_8 = DecisionTreeClassifier(random_state=2001, max_depth = 8)\n",
    "max_20 = DecisionTreeClassifier(random_state=2001, max_depth = 20)"
   ]
  },
  {
   "cell_type": "code",
   "execution_count": 59,
   "metadata": {},
   "outputs": [],
   "source": [
    "clf_train = data_face_train.drop('smiling', axis = 1)\n",
    "clf_test = data_face_test.drop('smiling', axis = 1)\n",
    "\n",
    "clf_train_truth = data_face_train['smiling']\n",
    "clf_test_truth = data_face_test['smiling']"
   ]
  },
  {
   "cell_type": "code",
   "execution_count": 60,
   "metadata": {},
   "outputs": [
    {
     "name": "stdout",
     "output_type": "stream",
     "text": [
      "0.7947916666666667\n",
      "0.7816666666666666\n"
     ]
    }
   ],
   "source": [
    "max_2.fit(clf_train, clf_train_truth)\n",
    "max_2_train_accuracy = max_2.score(clf_train, clf_train_truth)\n",
    "max_2_test_accuracy = max_2.score(clf_test, clf_test_truth)\n",
    "\n",
    "print(max_2_train_accuracy)\n",
    "print(max_2_test_accuracy)"
   ]
  },
  {
   "cell_type": "code",
   "execution_count": 61,
   "metadata": {},
   "outputs": [
    {
     "name": "stdout",
     "output_type": "stream",
     "text": [
      "0.9335416666666667\n",
      "0.8408333333333333\n"
     ]
    }
   ],
   "source": [
    "max_8.fit(clf_train, clf_train_truth)\n",
    "max_8_train_accuracy = max_8.score(clf_train, clf_train_truth)\n",
    "max_8_test_accuracy = max_8.score(clf_test, clf_test_truth)\n",
    "\n",
    "print(max_8_train_accuracy)\n",
    "print(max_8_test_accuracy)"
   ]
  },
  {
   "cell_type": "code",
   "execution_count": 62,
   "metadata": {},
   "outputs": [
    {
     "name": "stdout",
     "output_type": "stream",
     "text": [
      "1.0\n",
      "0.8158333333333333\n"
     ]
    }
   ],
   "source": [
    "max_20.fit(clf_train, clf_train_truth)\n",
    "max_20_train_accuracy = max_20.score(clf_train, clf_train_truth)\n",
    "max_20_test_accuracy = max_20.score(clf_test, clf_test_truth)\n",
    "\n",
    "print(max_20_train_accuracy)\n",
    "print(max_20_test_accuracy)"
   ]
  },
  {
   "cell_type": "code",
   "execution_count": 63,
   "metadata": {},
   "outputs": [
    {
     "data": {
      "text/plain": [
       "array([0.        , 0.00171789, 0.00424141, 0.00931392, 0.00099457,\n",
       "       0.        , 0.00800374, 0.        , 0.        , 0.        ,\n",
       "       0.00554869, 0.        , 0.        , 0.        , 0.        ,\n",
       "       0.03554359, 0.        , 0.03275378, 0.        , 0.00569425,\n",
       "       0.        , 0.        , 0.        , 0.00097483, 0.        ,\n",
       "       0.00294131, 0.        , 0.        , 0.00221963, 0.00251957,\n",
       "       0.        , 0.        , 0.        , 0.        , 0.00250062,\n",
       "       0.        , 0.00097417, 0.00585508, 0.        , 0.        ,\n",
       "       0.00195484, 0.        , 0.        , 0.00158038, 0.00078737,\n",
       "       0.00285785, 0.00087485, 0.        , 0.        , 0.00481308,\n",
       "       0.        , 0.        , 0.        , 0.0015585 , 0.        ,\n",
       "       0.        , 0.        , 0.00136318, 0.        , 0.08831447,\n",
       "       0.        , 0.0053233 , 0.        , 0.00246417, 0.00095745,\n",
       "       0.01742446, 0.        , 0.00141094, 0.        , 0.00125979,\n",
       "       0.        , 0.        , 0.00330107, 0.        , 0.        ,\n",
       "       0.        , 0.        , 0.00837082, 0.        , 0.00139976,\n",
       "       0.        , 0.        , 0.00093318, 0.        , 0.        ,\n",
       "       0.0017497 , 0.        , 0.00106043, 0.        , 0.        ,\n",
       "       0.00228628, 0.00503367, 0.        , 0.        , 0.        ,\n",
       "       0.        , 0.        , 0.08995881, 0.04205592, 0.00365052,\n",
       "       0.33040485, 0.        , 0.        , 0.        , 0.00647459,\n",
       "       0.00048292, 0.08737591, 0.01737656, 0.01205727, 0.00797474,\n",
       "       0.00326127, 0.        , 0.        , 0.        , 0.        ,\n",
       "       0.00277871, 0.        , 0.00124821, 0.00069988, 0.        ,\n",
       "       0.03195927, 0.00720477, 0.00383935, 0.0023621 , 0.        ,\n",
       "       0.01294563, 0.        , 0.00194775, 0.01964643, 0.02444558,\n",
       "       0.        , 0.00439578, 0.00096732, 0.00160996, 0.        ,\n",
       "       0.00399932])"
      ]
     },
     "execution_count": 63,
     "metadata": {},
     "output_type": "execute_result"
    }
   ],
   "source": [
    "max_8.feature_importances_"
   ]
  },
  {
   "cell_type": "code",
   "execution_count": 64,
   "metadata": {},
   "outputs": [],
   "source": [
    "def findMAX(a):\n",
    "    b = np.zeros(3)\n",
    "    c = np.zeros(3)\n",
    "    c[0] = np.max(a)    #最大值\n",
    "    b[0] = np.where(a==c[0])[0]     #最大``值位置\n",
    "    new_a = np.delete(a,b[0])\n",
    "\n",
    "    c[1] = np.max(new_a)    #次大值\n",
    "    b[1] = np.where(new_a==c[1])[0]     #找出次大值位置。注：位置为新数组位置，无意义\n",
    "    new_a1 = np.delete(new_a,b[1])\n",
    "\n",
    "    c[2] = np.max(new_a1)   #第三大值\n",
    "    b[2] = np.where(new_a1==c[2] )[0]   #找出第三大值位置\n",
    "    new_a2 = np.delete(new_a1,b[2])\n",
    "    \n",
    "    return b,c"
   ]
  },
  {
   "cell_type": "code",
   "execution_count": 65,
   "metadata": {},
   "outputs": [
    {
     "name": "stderr",
     "output_type": "stream",
     "text": [
      "D:\\Python\\Anaconda3\\envs\\py3iaml\\lib\\site-packages\\ipykernel_launcher.py:6: DeprecationWarning: using a non-integer array as obj in delete will result in an error in the future\n",
      "  \n",
      "D:\\Python\\Anaconda3\\envs\\py3iaml\\lib\\site-packages\\ipykernel_launcher.py:10: DeprecationWarning: using a non-integer array as obj in delete will result in an error in the future\n",
      "  # Remove the CWD from sys.path while we load stuff.\n",
      "D:\\Python\\Anaconda3\\envs\\py3iaml\\lib\\site-packages\\ipykernel_launcher.py:14: DeprecationWarning: using a non-integer array as obj in delete will result in an error in the future\n",
      "  \n"
     ]
    },
    {
     "data": {
      "text/plain": [
       "(array([100.,  97.,  59.]), array([0.33040485, 0.08995881, 0.08831447]))"
      ]
     },
     "execution_count": 65,
     "metadata": {},
     "output_type": "execute_result"
    }
   ],
   "source": [
    "findMAX(max_8.feature_importances_)"
   ]
  },
  {
   "cell_type": "code",
   "execution_count": 66,
   "metadata": {},
   "outputs": [
    {
     "data": {
      "text/plain": [
       "136"
      ]
     },
     "execution_count": 66,
     "metadata": {},
     "output_type": "execute_result"
    }
   ],
   "source": [
    "len(max_8.feature_importances_)"
   ]
  },
  {
   "cell_type": "code",
   "execution_count": 67,
   "metadata": {},
   "outputs": [
    {
     "data": {
      "text/plain": [
       "'x50'"
      ]
     },
     "execution_count": 67,
     "metadata": {},
     "output_type": "execute_result"
    }
   ],
   "source": [
    "clf_train.columns[100]"
   ]
  },
  {
   "cell_type": "code",
   "execution_count": 68,
   "metadata": {},
   "outputs": [
    {
     "data": {
      "text/plain": [
       "'y48'"
      ]
     },
     "execution_count": 68,
     "metadata": {},
     "output_type": "execute_result"
    }
   ],
   "source": [
    "clf_train.columns[97]"
   ]
  },
  {
   "cell_type": "code",
   "execution_count": 69,
   "metadata": {},
   "outputs": [
    {
     "data": {
      "text/plain": [
       "'y29'"
      ]
     },
     "execution_count": 69,
     "metadata": {},
     "output_type": "execute_result"
    }
   ],
   "source": [
    "clf_train.columns[59]"
   ]
  },
  {
   "cell_type": "code",
   "execution_count": 70,
   "metadata": {},
   "outputs": [],
   "source": [
    "# Read file classification_eval_1.csv\n",
    "import os\n",
    "\n",
    "path_classification_eval_1 = os.path.join(os.getcwd(), 'data', 'classification_eval_1.csv')\n",
    "classification_eval_1 = pd.read_csv(path_classification_eval_1, delimiter = ',')"
   ]
  },
  {
   "cell_type": "code",
   "execution_count": 71,
   "metadata": {},
   "outputs": [
    {
     "data": {
      "text/html": [
       "<div>\n",
       "<style scoped>\n",
       "    .dataframe tbody tr th:only-of-type {\n",
       "        vertical-align: middle;\n",
       "    }\n",
       "\n",
       "    .dataframe tbody tr th {\n",
       "        vertical-align: top;\n",
       "    }\n",
       "\n",
       "    .dataframe thead th {\n",
       "        text-align: right;\n",
       "    }\n",
       "</style>\n",
       "<table border=\"1\" class=\"dataframe\">\n",
       "  <thead>\n",
       "    <tr style=\"text-align: right;\">\n",
       "      <th></th>\n",
       "      <th>gt</th>\n",
       "      <th>alg_1</th>\n",
       "      <th>alg_2</th>\n",
       "      <th>alg_3</th>\n",
       "      <th>alg_4</th>\n",
       "    </tr>\n",
       "  </thead>\n",
       "  <tbody>\n",
       "    <tr>\n",
       "      <th>0</th>\n",
       "      <td>0</td>\n",
       "      <td>0.051302</td>\n",
       "      <td>0.000000</td>\n",
       "      <td>0.821882</td>\n",
       "      <td>0.705028</td>\n",
       "    </tr>\n",
       "    <tr>\n",
       "      <th>1</th>\n",
       "      <td>0</td>\n",
       "      <td>0.695441</td>\n",
       "      <td>1.000000</td>\n",
       "      <td>1.000000</td>\n",
       "      <td>0.741789</td>\n",
       "    </tr>\n",
       "    <tr>\n",
       "      <th>2</th>\n",
       "      <td>1</td>\n",
       "      <td>0.471121</td>\n",
       "      <td>0.913034</td>\n",
       "      <td>0.000000</td>\n",
       "      <td>1.000000</td>\n",
       "    </tr>\n",
       "    <tr>\n",
       "      <th>3</th>\n",
       "      <td>1</td>\n",
       "      <td>1.000000</td>\n",
       "      <td>1.000000</td>\n",
       "      <td>0.000000</td>\n",
       "      <td>1.000000</td>\n",
       "    </tr>\n",
       "    <tr>\n",
       "      <th>4</th>\n",
       "      <td>0</td>\n",
       "      <td>0.857339</td>\n",
       "      <td>0.000000</td>\n",
       "      <td>0.296797</td>\n",
       "      <td>0.809736</td>\n",
       "    </tr>\n",
       "    <tr>\n",
       "      <th>5</th>\n",
       "      <td>0</td>\n",
       "      <td>1.000000</td>\n",
       "      <td>0.000000</td>\n",
       "      <td>0.493186</td>\n",
       "      <td>0.769017</td>\n",
       "    </tr>\n",
       "    <tr>\n",
       "      <th>6</th>\n",
       "      <td>0</td>\n",
       "      <td>0.897370</td>\n",
       "      <td>1.000000</td>\n",
       "      <td>0.261861</td>\n",
       "      <td>0.987711</td>\n",
       "    </tr>\n",
       "    <tr>\n",
       "      <th>7</th>\n",
       "      <td>0</td>\n",
       "      <td>0.236050</td>\n",
       "      <td>1.000000</td>\n",
       "      <td>0.687067</td>\n",
       "      <td>0.826789</td>\n",
       "    </tr>\n",
       "    <tr>\n",
       "      <th>8</th>\n",
       "      <td>0</td>\n",
       "      <td>0.219094</td>\n",
       "      <td>0.131004</td>\n",
       "      <td>0.502369</td>\n",
       "      <td>0.712532</td>\n",
       "    </tr>\n",
       "    <tr>\n",
       "      <th>9</th>\n",
       "      <td>0</td>\n",
       "      <td>0.000000</td>\n",
       "      <td>1.000000</td>\n",
       "      <td>1.000000</td>\n",
       "      <td>0.407349</td>\n",
       "    </tr>\n",
       "  </tbody>\n",
       "</table>\n",
       "</div>"
      ],
      "text/plain": [
       "   gt     alg_1     alg_2     alg_3     alg_4\n",
       "0   0  0.051302  0.000000  0.821882  0.705028\n",
       "1   0  0.695441  1.000000  1.000000  0.741789\n",
       "2   1  0.471121  0.913034  0.000000  1.000000\n",
       "3   1  1.000000  1.000000  0.000000  1.000000\n",
       "4   0  0.857339  0.000000  0.296797  0.809736\n",
       "5   0  1.000000  0.000000  0.493186  0.769017\n",
       "6   0  0.897370  1.000000  0.261861  0.987711\n",
       "7   0  0.236050  1.000000  0.687067  0.826789\n",
       "8   0  0.219094  0.131004  0.502369  0.712532\n",
       "9   0  0.000000  1.000000  1.000000  0.407349"
      ]
     },
     "execution_count": 71,
     "metadata": {},
     "output_type": "execute_result"
    }
   ],
   "source": [
    "classification_eval_1.head(10)"
   ]
  },
  {
   "cell_type": "code",
   "execution_count": 72,
   "metadata": {},
   "outputs": [
    {
     "data": {
      "text/html": [
       "<div>\n",
       "<style scoped>\n",
       "    .dataframe tbody tr th:only-of-type {\n",
       "        vertical-align: middle;\n",
       "    }\n",
       "\n",
       "    .dataframe tbody tr th {\n",
       "        vertical-align: top;\n",
       "    }\n",
       "\n",
       "    .dataframe thead th {\n",
       "        text-align: right;\n",
       "    }\n",
       "</style>\n",
       "<table border=\"1\" class=\"dataframe\">\n",
       "  <thead>\n",
       "    <tr style=\"text-align: right;\">\n",
       "      <th></th>\n",
       "      <th>gt</th>\n",
       "      <th>alg_1</th>\n",
       "      <th>alg_2</th>\n",
       "      <th>alg_3</th>\n",
       "      <th>alg_4</th>\n",
       "    </tr>\n",
       "  </thead>\n",
       "  <tbody>\n",
       "    <tr>\n",
       "      <th>count</th>\n",
       "      <td>1000.000000</td>\n",
       "      <td>1000.000000</td>\n",
       "      <td>1000.000000</td>\n",
       "      <td>1000.000000</td>\n",
       "      <td>1000.000000</td>\n",
       "    </tr>\n",
       "    <tr>\n",
       "      <th>mean</th>\n",
       "      <td>0.202000</td>\n",
       "      <td>0.493739</td>\n",
       "      <td>0.518386</td>\n",
       "      <td>0.491591</td>\n",
       "      <td>0.743101</td>\n",
       "    </tr>\n",
       "    <tr>\n",
       "      <th>std</th>\n",
       "      <td>0.401693</td>\n",
       "      <td>0.383203</td>\n",
       "      <td>0.426419</td>\n",
       "      <td>0.304036</td>\n",
       "      <td>0.194130</td>\n",
       "    </tr>\n",
       "    <tr>\n",
       "      <th>min</th>\n",
       "      <td>0.000000</td>\n",
       "      <td>0.000000</td>\n",
       "      <td>0.000000</td>\n",
       "      <td>0.000000</td>\n",
       "      <td>0.167336</td>\n",
       "    </tr>\n",
       "    <tr>\n",
       "      <th>25%</th>\n",
       "      <td>0.000000</td>\n",
       "      <td>0.074081</td>\n",
       "      <td>0.000000</td>\n",
       "      <td>0.248341</td>\n",
       "      <td>0.597597</td>\n",
       "    </tr>\n",
       "    <tr>\n",
       "      <th>50%</th>\n",
       "      <td>0.000000</td>\n",
       "      <td>0.498969</td>\n",
       "      <td>0.549211</td>\n",
       "      <td>0.476655</td>\n",
       "      <td>0.760082</td>\n",
       "    </tr>\n",
       "    <tr>\n",
       "      <th>75%</th>\n",
       "      <td>0.000000</td>\n",
       "      <td>0.887967</td>\n",
       "      <td>1.000000</td>\n",
       "      <td>0.732685</td>\n",
       "      <td>0.919085</td>\n",
       "    </tr>\n",
       "    <tr>\n",
       "      <th>max</th>\n",
       "      <td>1.000000</td>\n",
       "      <td>1.000000</td>\n",
       "      <td>1.000000</td>\n",
       "      <td>1.000000</td>\n",
       "      <td>1.000000</td>\n",
       "    </tr>\n",
       "  </tbody>\n",
       "</table>\n",
       "</div>"
      ],
      "text/plain": [
       "                gt        alg_1        alg_2        alg_3        alg_4\n",
       "count  1000.000000  1000.000000  1000.000000  1000.000000  1000.000000\n",
       "mean      0.202000     0.493739     0.518386     0.491591     0.743101\n",
       "std       0.401693     0.383203     0.426419     0.304036     0.194130\n",
       "min       0.000000     0.000000     0.000000     0.000000     0.167336\n",
       "25%       0.000000     0.074081     0.000000     0.248341     0.597597\n",
       "50%       0.000000     0.498969     0.549211     0.476655     0.760082\n",
       "75%       0.000000     0.887967     1.000000     0.732685     0.919085\n",
       "max       1.000000     1.000000     1.000000     1.000000     1.000000"
      ]
     },
     "execution_count": 72,
     "metadata": {},
     "output_type": "execute_result"
    }
   ],
   "source": [
    "classification_eval_1.describe()"
   ]
  },
  {
   "cell_type": "code",
   "execution_count": 73,
   "metadata": {},
   "outputs": [],
   "source": [
    "gt = classification_eval_1['gt']\n",
    "alg_1 = classification_eval_1['alg_1']\n",
    "alg_2 = classification_eval_1['alg_2']\n",
    "alg_3 = classification_eval_1['alg_3']\n",
    "alg_4 = classification_eval_1['alg_4']\n",
    "\n",
    "np_gt = np.array(gt)\n",
    "np_alg_1 = np.array(alg_1)\n",
    "np_alg_2 = np.array(alg_2)\n",
    "np_alg_3 = np.array(alg_3)\n",
    "np_alg_4 = np.array(alg_4)"
   ]
  },
  {
   "cell_type": "code",
   "execution_count": 74,
   "metadata": {},
   "outputs": [],
   "source": [
    "def setT(i):\n",
    "    if i>=0.5:\n",
    "        val = 1\n",
    "    else:\n",
    "        val = 0\n",
    "    return val"
   ]
  },
  {
   "cell_type": "code",
   "execution_count": 75,
   "metadata": {},
   "outputs": [],
   "source": [
    "def biArray(array):\n",
    "    for i in range(len(array)):\n",
    "        array[i] = setT(array[i])\n",
    "    return array"
   ]
  },
  {
   "cell_type": "code",
   "execution_count": 76,
   "metadata": {},
   "outputs": [],
   "source": [
    "bi_alg_1 = biArray(np_alg_1)\n",
    "bi_alg_2 = biArray(np_alg_2)\n",
    "bi_alg_3 = biArray(np_alg_3)\n",
    "bi_alg_4 = biArray(np_alg_4)"
   ]
  },
  {
   "cell_type": "code",
   "execution_count": null,
   "metadata": {},
   "outputs": [],
   "source": []
  },
  {
   "cell_type": "code",
   "execution_count": 77,
   "metadata": {},
   "outputs": [],
   "source": [
    "def countAcc(gt, bi_alg):\n",
    "    count = 0\n",
    "    for j in range(len(bi_alg)):\n",
    "        if gt[j] == bi_alg[j]:\n",
    "            count = count + 1\n",
    "        else:\n",
    "            1 == 1\n",
    "    return count"
   ]
  },
  {
   "cell_type": "code",
   "execution_count": null,
   "metadata": {},
   "outputs": [],
   "source": []
  },
  {
   "cell_type": "code",
   "execution_count": 78,
   "metadata": {},
   "outputs": [
    {
     "data": {
      "text/plain": [
       "0.616"
      ]
     },
     "execution_count": 78,
     "metadata": {},
     "output_type": "execute_result"
    }
   ],
   "source": [
    "acc_alg_1 = countAcc(gt, bi_alg_1)/len(gt)\n",
    "acc_alg_1"
   ]
  },
  {
   "cell_type": "code",
   "execution_count": 79,
   "metadata": {},
   "outputs": [
    {
     "data": {
      "text/plain": [
       "0.55"
      ]
     },
     "execution_count": 79,
     "metadata": {},
     "output_type": "execute_result"
    }
   ],
   "source": [
    "acc_alg_2 = countAcc(gt, bi_alg_2)/len(gt)\n",
    "acc_alg_2 "
   ]
  },
  {
   "cell_type": "code",
   "execution_count": 80,
   "metadata": {},
   "outputs": [
    {
     "data": {
      "text/plain": [
       "0.321"
      ]
     },
     "execution_count": 80,
     "metadata": {},
     "output_type": "execute_result"
    }
   ],
   "source": [
    "acc_alg_3 = countAcc(gt, bi_alg_3)/len(gt)\n",
    "acc_alg_3"
   ]
  },
  {
   "cell_type": "code",
   "execution_count": 81,
   "metadata": {},
   "outputs": [
    {
     "data": {
      "text/plain": [
       "0.329"
      ]
     },
     "execution_count": 81,
     "metadata": {},
     "output_type": "execute_result"
    }
   ],
   "source": [
    "acc_alg_4 = countAcc(gt, bi_alg_4)/len(gt)\n",
    "acc_alg_4"
   ]
  },
  {
   "cell_type": "code",
   "execution_count": 82,
   "metadata": {},
   "outputs": [],
   "source": [
    "from sklearn.metrics import roc_auc_score"
   ]
  },
  {
   "cell_type": "code",
   "execution_count": 83,
   "metadata": {
    "scrolled": true
   },
   "outputs": [
    {
     "data": {
      "text/plain": [
       "0.7320932281198045"
      ]
     },
     "execution_count": 83,
     "metadata": {},
     "output_type": "execute_result"
    }
   ],
   "source": [
    "auc_1 = roc_auc_score(np_gt, np.array(alg_1))\n",
    "auc_1"
   ]
  },
  {
   "cell_type": "code",
   "execution_count": 84,
   "metadata": {
    "scrolled": true
   },
   "outputs": [
    {
     "data": {
      "text/plain": [
       "0.6316285763914737"
      ]
     },
     "execution_count": 84,
     "metadata": {},
     "output_type": "execute_result"
    }
   ],
   "source": [
    "auc_2 = roc_auc_score(np_gt, np.array(alg_2))\n",
    "auc_2"
   ]
  },
  {
   "cell_type": "code",
   "execution_count": 85,
   "metadata": {},
   "outputs": [
    {
     "data": {
      "text/plain": [
       "0.06395009801732053"
      ]
     },
     "execution_count": 85,
     "metadata": {},
     "output_type": "execute_result"
    }
   ],
   "source": [
    "auc_3 = roc_auc_score(np_gt, np.array(alg_3))\n",
    "auc_3"
   ]
  },
  {
   "cell_type": "code",
   "execution_count": 86,
   "metadata": {},
   "outputs": [
    {
     "data": {
      "text/plain": [
       "0.8473876522990644"
      ]
     },
     "execution_count": 86,
     "metadata": {},
     "output_type": "execute_result"
    }
   ],
   "source": [
    "auc_4 = roc_auc_score(np_gt, np.array(alg_4))\n",
    "auc_4"
   ]
  },
  {
   "cell_type": "code",
   "execution_count": 87,
   "metadata": {},
   "outputs": [],
   "source": [
    "fpr_1, tpr_1, thresholds_1 = metrics.roc_curve(np_gt, np.array(alg_1))\n",
    "fpr_2, tpr_2, thresholds_2 = metrics.roc_curve(np_gt, np.array(alg_2))\n",
    "fpr_3, tpr_3, thresholds_3 = metrics.roc_curve(np_gt, np.array(alg_3))\n",
    "fpr_4, tpr_4, thresholds_4 = metrics.roc_curve(np_gt, np.array(alg_4))"
   ]
  },
  {
   "cell_type": "code",
   "execution_count": null,
   "metadata": {},
   "outputs": [],
   "source": []
  },
  {
   "cell_type": "code",
   "execution_count": 88,
   "metadata": {},
   "outputs": [
    {
     "data": {
      "text/plain": [
       "<matplotlib.legend.Legend at 0x1ea1439a888>"
      ]
     },
     "execution_count": 88,
     "metadata": {},
     "output_type": "execute_result"
    },
    {
     "data": {
      "image/png": "[encoded data removed]",
      "text/plain": [
       "<Figure size 576x432 with 1 Axes>"
      ]
     },
     "metadata": {
      "needs_background": "light"
     },
     "output_type": "display_data"
    }
   ],
   "source": [
    "plt.figure(figsize =(8,6))\n",
    "plt.plot([0, 1], [0, 1], color='navy', linestyle='--')\n",
    "plt.plot(fpr_1, tpr_1, \"r\", label=\"alg_1\")\n",
    "plt.plot(fpr_2, tpr_2, \"g\", label=\"alg_2\")\n",
    "plt.plot(fpr_3, tpr_3, \"b\", label=\"alg_3\")\n",
    "plt.plot(fpr_4, tpr_4, \"orange\", label=\"alg_4\")\n",
    "plt.xlabel('False Positive Rate')\n",
    "plt.ylabel('True Positive Rate')\n",
    "plt.title(\"Q4_(c)\")\n",
    "plt.legend()"
   ]
  },
  {
   "cell_type": "code",
   "execution_count": null,
   "metadata": {},
   "outputs": [],
   "source": []
  },
  {
   "cell_type": "code",
   "execution_count": null,
   "metadata": {},
   "outputs": [],
   "source": []
  }
 ],
 "metadata": {
  "kernelspec": {
   "display_name": "Python 3",
   "language": "python",
   "name": "python3"
  },
  "language_info": {
   "codemirror_mode": {
    "name": "ipython",
    "version": 3
   },
   "file_extension": ".py",
   "mimetype": "text/x-python",
   "name": "python",
   "nbconvert_exporter": "python",
   "pygments_lexer": "ipython3",
   "version": "3.7.9"
  }
 },
 "nbformat": 4,
 "nbformat_minor": 4
}
