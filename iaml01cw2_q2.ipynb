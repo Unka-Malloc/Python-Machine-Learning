{
 "cells": [
  {
   "cell_type": "markdown",
   "metadata": {},
   "source": [
    "Hello"
   ]
  },
  {
   "cell_type": "markdown",
   "metadata": {},
   "source": [
    "# Q2.1"
   ]
  },
  {
   "cell_type": "code",
   "execution_count": 1,
   "metadata": {},
   "outputs": [
    {
     "name": "stderr",
     "output_type": "stream",
     "text": [
      "D:\\Python\\Anaconda3\\envs\\py3iaml\\lib\\site-packages\\sklearn\\utils\\__init__.py:4: DeprecationWarning: Using or importing the ABCs from 'collections' instead of from 'collections.abc' is deprecated since Python 3.3,and in 3.9 it will stop working\n",
      "  from collections import Sequence\n"
     ]
    },
    {
     "name": "stdout",
     "output_type": "stream",
     "text": [
      "test accuracy: 0.84\n",
      "confusion matrix:\n",
      "[[819   3  15  50   7   4  90   1  11   0]\n",
      " [  5 953   4  27   5   0   3   1   2   0]\n",
      " [ 27   4 731  11 133   0  82   2   9   1]\n",
      " [ 31  15  14 866  33   0  37   0   4   0]\n",
      " [  0   3 115  38 760   2  72   0  10   0]\n",
      " [  2   0   0   1   0 911   0  56  10  20]\n",
      " [147   3 128  46 108   0 539   0  28   1]\n",
      " [  0   0   0   0   0  32   0 936   1  31]\n",
      " [  7   1   6  11   3   7  15   5 945   0]\n",
      " [  0   0   0   1   0  15   1  42   0 941]]\n"
     ]
    }
   ],
   "source": [
    "import numpy as np\n",
    "import scipy\n",
    "import matplotlib.pyplot as plt\n",
    "import seaborn as sns\n",
    "from helpers.iaml01cw2_helpers import *\n",
    "from templates.iaml01cw2_my_helpers import *\n",
    "from sklearn.decomposition import PCA\n",
    "from sklearn.metrics import mean_squared_error\n",
    "from sklearn import linear_model\n",
    "from sklearn import svm\n",
    "from sklearn.metrics import confusion_matrix\n",
    "from sklearn.model_selection import cross_val_score\n",
    "\n",
    "DataPath = \"zaData\"\n",
    "\n",
    "Xtrn, Ytrn, Xtst, Ytst = load_FashionMNIST(DataPath)\n",
    "\n",
    "#Step 1\n",
    "Xtrn_orig = Xtrn\n",
    "Xtst_orig = Xtst\n",
    "\n",
    "#Step 2\n",
    "Xtrn = Xtrn/255.0\n",
    "Xtst = Xtst/255.0\n",
    "\n",
    "#Step 3\n",
    "Xmean = Xtrn.mean(axis=0)\n",
    "\n",
    "#Step 4\n",
    "Xtrn_nm = Xtrn - Xmean\n",
    "Xtst_nm = Xtst - Xmean\n",
    "\n",
    "lr = linear_model.LogisticRegression().fit(Xtrn_nm, Ytrn)\n",
    "lr_score = lr.score(Xtst_nm, Ytst)\n",
    "lr_cm = confusion_matrix(Ytst,lr.predict(Xtst_nm))\n",
    "\n",
    "def iaml01cw2_q2_1():\n",
    "    print('test accuracy:', np.round(lr_score,3))\n",
    "    print('confusion matrix:')\n",
    "    print(lr_cm)\n",
    "    \n",
    "iaml01cw2_q2_1()"
   ]
  },
  {
   "cell_type": "markdown",
   "metadata": {},
   "source": [
    "# Q2.2"
   ]
  },
  {
   "cell_type": "code",
   "execution_count": 2,
   "metadata": {},
   "outputs": [
    {
     "name": "stdout",
     "output_type": "stream",
     "text": [
      "test accuracy: 0.846\n",
      "confusion matrix:\n",
      "[[845   2   8  51   4   4  72   0  14   0]\n",
      " [  4 951   7  31   5   0   1   0   1   0]\n",
      " [ 15   2 748  11 137   0  79   0   8   0]\n",
      " [ 32   6  12 881  26   0  40   0   3   0]\n",
      " [  1   0  98  36 775   0  86   0   4   0]\n",
      " [  0   0   0   1   0 914   0  57   2  26]\n",
      " [185   1 122  39  95   0 533   0  25   0]\n",
      " [  0   0   0   0   0  34   0 925   0  41]\n",
      " [  3   1   8   5   2   4  13   4 959   1]\n",
      " [  0   0   0   0   0  22   0  47   1 930]]\n"
     ]
    }
   ],
   "source": [
    "svC = svm.SVC().fit(Xtrn_nm, Ytrn)\n",
    "svC_score = svC.score(Xtst_nm, Ytst)\n",
    "svC_cm = confusion_matrix(Ytst,svC.predict(Xtst_nm))\n",
    "\n",
    "def iaml01cw2_q2_2():\n",
    "    print('test accuracy:',np.round(svC_score,3))\n",
    "    print('confusion matrix:')\n",
    "    print(svC_cm)\n",
    "    \n",
    "iaml01cw2_q2_2()"
   ]
  },
  {
   "cell_type": "markdown",
   "metadata": {},
   "source": [
    "# Q2.3"
   ]
  },
  {
   "cell_type": "code",
   "execution_count": null,
   "metadata": {},
   "outputs": [],
   "source": [
    "pca_23_2 = PCA(n_components = 2).fit(Xtrn_nm)\n",
    "trans_23_2 = pca_23_2.fit_transform(Xtrn_nm)\n",
    "V = pca_23_2.components_\n",
    "std = np.sqrt(pca_23_2.explained_variance_)\n",
    "\n",
    "std1 = std[0]\n",
    "std2 = std[1]\n",
    "print('std1: ',std1)\n",
    "print('std2: ',std2)\n",
    "x1 = np.arange(-5*std1, 5*std1, np.abs(10*std1)/100)\n",
    "y1 = np.arange(-5*std2, 5*std2, np.abs(10*std2)/100)\n",
    "\n",
    "x2,y2 = np.meshgrid(x1,y1)\n",
    "\n",
    "new_grid = np.zeros([10000, 2])\n",
    "\n",
    "new_grid[:,0] = x2.reshape(1,-1)\n",
    "new_grid[:,1] = y2.reshape(1,-1)\n",
    "\n",
    "re_23_2 = pca_23_2.inverse_transform(new_grid)\n",
    "re_23_2.shape\n",
    "\n",
    "z = lr.predict(re_23_2).reshape(100,100)\n",
    "\n",
    "def iaml01cw2_q2_3():\n",
    "    plt.figure(figsize=(8,6))\n",
    "    plt.contourf(x2,y2,z, cmap = plt.cm.coolwarm, levels = np.linspace(-0.5,9.5,11))\n",
    "    plt.xlabel('Standard Deviation for First Principle Component')\n",
    "    plt.ylabel('Standard Deviation for Second Principle Component')\n",
    "    plt.title(\"2.3\")\n",
    "\n",
    "    plt.colorbar().set_ticks(np.linspace(0,9,10))\n",
    "    \n",
    "iaml01cw2_q2_3()"
   ]
  },
  {
   "cell_type": "markdown",
   "metadata": {},
   "source": [
    "# Q2.4"
   ]
  },
  {
   "cell_type": "code",
   "execution_count": null,
   "metadata": {},
   "outputs": [],
   "source": [
    "z2 = svC.predict(re_23_2).reshape(100,100)\n",
    "\n",
    "\n",
    "def iaml01cw2_q2_4():\n",
    "    plt.figure(figsize=(8,6))\n",
    "    plt.contourf(x2,y2,z2, cmap = plt.cm.coolwarm, levels = np.linspace(-0.5,9.5,11))\n",
    "    plt.xlabel('Standard Deviation for First Principle Component')\n",
    "    plt.ylabel('Standard Deviation for Second Principle Component')\n",
    "    plt.title(\"2.4\")\n",
    "\n",
    "    plt.colorbar().set_ticks(np.linspace(0,9,10))\n",
    "    \n",
    "iaml01cw2_q2_4()"
   ]
  },
  {
   "cell_type": "markdown",
   "metadata": {},
   "source": [
    "# Q2.5"
   ]
  },
  {
   "cell_type": "code",
   "execution_count": null,
   "metadata": {},
   "outputs": [
    {
     "name": "stdout",
     "output_type": "stream",
     "text": [
      "21.544346900318846\n"
     ]
    }
   ],
   "source": [
    "def find_fir1000(Xtrn_nm, Ytrn, c):\n",
    "    ar = Xtrn_nm[np.argwhere(Ytrn == c)[:1000]]\n",
    "    ar = ar.reshape([1000,784])\n",
    "    return ar\n",
    "\n",
    "Xsmall = np.concatenate((find_fir1000(Xtrn_nm, Ytrn, 0),\n",
    "                        find_fir1000(Xtrn_nm, Ytrn, 1),\n",
    "                        find_fir1000(Xtrn_nm, Ytrn, 2),\n",
    "                        find_fir1000(Xtrn_nm, Ytrn, 3),\n",
    "                        find_fir1000(Xtrn_nm, Ytrn, 4),\n",
    "                        find_fir1000(Xtrn_nm, Ytrn, 5),\n",
    "                        find_fir1000(Xtrn_nm, Ytrn, 6),\n",
    "                        find_fir1000(Xtrn_nm, Ytrn, 7),\n",
    "                        find_fir1000(Xtrn_nm, Ytrn, 8),\n",
    "                        find_fir1000(Xtrn_nm, Ytrn, 9))\n",
    "                       )\n",
    "\n",
    "Ysmall = np.concatenate(( Ytrn[np.argwhere(Ytrn == 0)[:1000].reshape(1000)],\n",
    "                          Ytrn[np.argwhere(Ytrn == 1)[:1000].reshape(1000)],\n",
    "                          Ytrn[np.argwhere(Ytrn == 2)[:1000].reshape(1000)],\n",
    "                          Ytrn[np.argwhere(Ytrn == 3)[:1000].reshape(1000)],\n",
    "                          Ytrn[np.argwhere(Ytrn == 4)[:1000].reshape(1000)],\n",
    "                          Ytrn[np.argwhere(Ytrn == 5)[:1000].reshape(1000)],\n",
    "                          Ytrn[np.argwhere(Ytrn == 6)[:1000].reshape(1000)],\n",
    "                          Ytrn[np.argwhere(Ytrn == 7)[:1000].reshape(1000)],\n",
    "                          Ytrn[np.argwhere(Ytrn == 8)[:1000].reshape(1000)],\n",
    "                          Ytrn[np.argwhere(Ytrn == 9)[:1000].reshape(1000)]\n",
    "                        ))\n",
    "\n",
    "var_sp = np.logspace(-2,3,10)\n",
    "\n",
    "print(var_sp[6])\n",
    "\n",
    "new = np.array([])\n",
    "for i in range(10):\n",
    "    clr_fit = svm.SVC(C = var_sp[i]).fit(Xsmall, Ysmall)\n",
    "    s = cross_val_score(clr_fit, Xsmall, Ysmall, cv=3, n_jobs=-1)\n",
    "    s_mean = np.mean(s)\n",
    "    new = np.append(new, s_mean)\n",
    "\n",
    "print(new)\n",
    "\n",
    "other_new = np.array(\n",
    "    [0.6481958 , 0.69109768, 0.73670227, 0.78380416, 0.81970174,\n",
    "    0.84470129, 0.85650231, 0.8542039 , 0.8495031 , 0.84060138]\n",
    ")\n",
    "\n",
    "def iaml01cw2_q2_5():\n",
    "    plt.figure(figsize=(8,6))\n",
    "    plt.scatter(np.log10(var_sp), other_new,label = 'Mean Accuracy', color = 'black')\n",
    "    plt.plot(np.log10(var_sp), other_new, c = 'red')\n",
    "    plt.xlabel('Penalty Parameter C')\n",
    "    plt.ylabel('Mean Cross-Validated Classification Accuracy')\n",
    "    plt.title('2.5')\n",
    "    plt.legend(loc = 'lower right')\n",
    "    plt.grid()\n",
    "    \n",
    "iaml01cw2_q2_5()"
   ]
  },
  {
   "cell_type": "markdown",
   "metadata": {},
   "source": [
    "# Q2.6"
   ]
  },
  {
   "cell_type": "code",
   "execution_count": null,
   "metadata": {},
   "outputs": [],
   "source": [
    "def iaml01cw2_q2_6():\n",
    "    optimal = var_sp[np.argmax(other_new)]\n",
    "\n",
    "    svc26 = svm.SVC(C = optimal)\n",
    "    svc_26 = svc26.fit(Xtrn_nm, Ytrn)\n",
    "    print(svc26.score(Xtrn_nm, Ytrn))\n",
    "    print(svc26.score(Xtst_nm, Ytst))\n",
    "\n",
    "iaml01cw2_q2_6()"
   ]
  },
  {
   "cell_type": "code",
   "execution_count": null,
   "metadata": {},
   "outputs": [],
   "source": []
  }
 ],
 "metadata": {
  "kernelspec": {
   "display_name": "Python 3",
   "language": "python",
   "name": "python3"
  },
  "language_info": {
   "codemirror_mode": {
    "name": "ipython",
    "version": 3
   },
   "file_extension": ".py",
   "mimetype": "text/x-python",
   "name": "python",
   "nbconvert_exporter": "python",
   "pygments_lexer": "ipython3",
   "version": "3.7.9"
  }
 },
 "nbformat": 4,
 "nbformat_minor": 4
}
